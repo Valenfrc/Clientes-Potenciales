{
 "cells": [
  {
   "cell_type": "code",
   "execution_count": 1,
   "id": "6bc1b666",
   "metadata": {},
   "outputs": [
    {
     "name": "stdout",
     "output_type": "stream",
     "text": [
      "Requirement already satisfied: openpyxl in c:\\users\\valen\\anaconda3\\lib\\site-packages (3.1.5)\n",
      "Requirement already satisfied: et-xmlfile in c:\\users\\valen\\anaconda3\\lib\\site-packages (from openpyxl) (1.1.0)\n",
      "Note: you may need to restart the kernel to use updated packages.\n"
     ]
    }
   ],
   "source": [
    "pip install openpyxl\n"
   ]
  },
  {
   "cell_type": "code",
   "execution_count": 2,
   "id": "4cff51fd",
   "metadata": {},
   "outputs": [
    {
     "name": "stdout",
     "output_type": "stream",
     "text": [
      "¡Archivo Excel leído con éxito!\n",
      "  PRIMER CONTACTO      ULTIMO CONTACTO              NOMBRE    Sexo Pareja  \\\n",
      "0      2022-01-01  2022-01-31 00:00:00          Ale Canton   Mujer      -   \n",
      "1      2022-01-02  2022-01-13 00:00:00  Alejandro Trujillo  Hombre      -   \n",
      "2      2022-01-03                    -     Jennifer Turner   Mujer      -   \n",
      "3      2022-01-04                    -    Isabel Navarrete   Mujer     Sí   \n",
      "4      2022-01-05  2022-01-30 00:00:00      Ana Lucia Lira   Mujer      -   \n",
      "\n",
      "  PROCEDENCIA TELEFONO 1 TELEFONO 2 CORREO 1 CORREO 2  ...  \\\n",
      "0           -          -          -        -        -  ...   \n",
      "1           -          -          -        -        -  ...   \n",
      "2           -          -          -        -        -  ...   \n",
      "3           -          -          -        -        -  ...   \n",
      "4           -          -          -        -        -  ...   \n",
      "\n",
      "  CONOCE NUESTROS TRABAJOS Y SERVICIOS MEDIO POR EL QUE NOS CONOCE DOCUMENTOS  \\\n",
      "0                                   Sí                       Gmaps          -   \n",
      "1                                   Sí                   Instagram          -   \n",
      "2                                    -               Recomendación          -   \n",
      "3                                    -                   Instagram          -   \n",
      "4                                    -                   Instagram          -   \n",
      "\n",
      "  SE PRESENTO  PROPUESTA FECHA EN QUE SE PRESENTO     ESTATUS NOTAS  \\\n",
      "0                      -                        -     Olvidar     -   \n",
      "1                      -                        -     Olvidar     -   \n",
      "2                      -                        -     Olvidar     -   \n",
      "3                     Sí                        -  Contratado     -   \n",
      "4                      -                        -     Olvidar     -   \n",
      "\n",
      "  Unnamed: 24 Unnamed: 25 Unnamed: 26  \n",
      "0         NaN         NaN         NaN  \n",
      "1         NaN         NaN         NaN  \n",
      "2         NaN         NaN         NaN  \n",
      "3         NaN         NaN         NaN  \n",
      "4         NaN         NaN         NaN  \n",
      "\n",
      "[5 rows x 27 columns]\n"
     ]
    }
   ],
   "source": [
    "import pandas as pd\n",
    "\n",
    "# Define la ruta de tu archivo.\n",
    "ruta_del_archivo = \"raw/00_LEADS (CONTROL KIARA).xlsx\"\n",
    "\n",
    "# Lee el archivo Excel.\n",
    "# Esto cargará todos los datos en un DataFrame llamado 'df'.\n",
    "try:\n",
    "    df = pd.read_excel(ruta_del_archivo)\n",
    "    print(\"¡Archivo Excel leído con éxito!\")\n",
    "    # Muestra las primeras 5 filas del DataFrame para verificar.\n",
    "    print(df.head())\n",
    "except FileNotFoundError:\n",
    "    print(f\"Error: El archivo no se encuentra en la ruta '{ruta_del_archivo}'\")\n",
    "except Exception as e:\n",
    "    print(f\"Ocurrió un error al leer el archivo: {e}\")"
   ]
  },
  {
   "cell_type": "code",
   "execution_count": 3,
   "id": "661d0a82",
   "metadata": {},
   "outputs": [
    {
     "data": {
      "text/plain": [
       "Index(['PRIMER CONTACTO', 'ULTIMO CONTACTO', 'NOMBRE', 'Sexo', 'Pareja',\n",
       "       'PROCEDENCIA', 'TELEFONO 1', 'TELEFONO 2', 'CORREO 1', 'CORREO 2',\n",
       "       'COMUNICACIÓN', 'UBICACIÓN DE PROYECTO', 'AREA (M2)',\n",
       "       'TIPO DE PROYECTO', 'USO DE PROYECTO', 'CITA O VIDEOLLAMADA', 'FECHA',\n",
       "       'CONOCE NUESTROS TRABAJOS Y SERVICIOS', 'MEDIO POR EL QUE NOS CONOCE',\n",
       "       'DOCUMENTOS', 'SE PRESENTO  PROPUESTA', 'FECHA EN QUE SE PRESENTO',\n",
       "       'ESTATUS', 'NOTAS', 'Unnamed: 24', 'Unnamed: 25', 'Unnamed: 26'],\n",
       "      dtype='object')"
      ]
     },
     "execution_count": 3,
     "metadata": {},
     "output_type": "execute_result"
    }
   ],
   "source": [
    "df.columns"
   ]
  },
  {
   "cell_type": "code",
   "execution_count": 4,
   "id": "f73c3965",
   "metadata": {},
   "outputs": [
    {
     "name": "stdout",
     "output_type": "stream",
     "text": [
      "<class 'pandas.core.frame.DataFrame'>\n",
      "RangeIndex: 259 entries, 0 to 258\n",
      "Data columns (total 27 columns):\n",
      " #   Column                                Non-Null Count  Dtype         \n",
      "---  ------                                --------------  -----         \n",
      " 0   PRIMER CONTACTO                       259 non-null    datetime64[ns]\n",
      " 1   ULTIMO CONTACTO                       259 non-null    object        \n",
      " 2   NOMBRE                                259 non-null    object        \n",
      " 3   Sexo                                  259 non-null    object        \n",
      " 4   Pareja                                258 non-null    object        \n",
      " 5   PROCEDENCIA                           259 non-null    object        \n",
      " 6   TELEFONO 1                            259 non-null    object        \n",
      " 7   TELEFONO 2                            257 non-null    object        \n",
      " 8   CORREO 1                              258 non-null    object        \n",
      " 9   CORREO 2                              258 non-null    object        \n",
      " 10  COMUNICACIÓN                          259 non-null    object        \n",
      " 11  UBICACIÓN DE PROYECTO                 259 non-null    object        \n",
      " 12  AREA (M2)                             117 non-null    object        \n",
      " 13  TIPO DE PROYECTO                      259 non-null    object        \n",
      " 14  USO DE PROYECTO                       259 non-null    object        \n",
      " 15  CITA O VIDEOLLAMADA                   259 non-null    object        \n",
      " 16  FECHA                                 259 non-null    object        \n",
      " 17  CONOCE NUESTROS TRABAJOS Y SERVICIOS  255 non-null    object        \n",
      " 18  MEDIO POR EL QUE NOS CONOCE           259 non-null    object        \n",
      " 19  DOCUMENTOS                            259 non-null    object        \n",
      " 20  SE PRESENTO  PROPUESTA                259 non-null    object        \n",
      " 21  FECHA EN QUE SE PRESENTO              259 non-null    object        \n",
      " 22  ESTATUS                               259 non-null    object        \n",
      " 23  NOTAS                                 255 non-null    object        \n",
      " 24  Unnamed: 24                           3 non-null      object        \n",
      " 25  Unnamed: 25                           1 non-null      object        \n",
      " 26  Unnamed: 26                           1 non-null      object        \n",
      "dtypes: datetime64[ns](1), object(26)\n",
      "memory usage: 54.8+ KB\n"
     ]
    }
   ],
   "source": [
    "df.info()"
   ]
  },
  {
   "cell_type": "code",
   "execution_count": 5,
   "id": "df7143d7",
   "metadata": {},
   "outputs": [],
   "source": [
    "df.drop_duplicates(inplace=True)"
   ]
  },
  {
   "cell_type": "code",
   "execution_count": 6,
   "id": "b19af8eb",
   "metadata": {},
   "outputs": [
    {
     "data": {
      "text/plain": [
       "(259, 27)"
      ]
     },
     "execution_count": 6,
     "metadata": {},
     "output_type": "execute_result"
    }
   ],
   "source": [
    "df.shape\n",
    "#puedo saber cuantas filas y columnas hay. tengo 259 filas y 27 columnas\n"
   ]
  },
  {
   "cell_type": "code",
   "execution_count": 7,
   "id": "42e6d18a",
   "metadata": {},
   "outputs": [
    {
     "data": {
      "text/html": [
       "<div>\n",
       "<style scoped>\n",
       "    .dataframe tbody tr th:only-of-type {\n",
       "        vertical-align: middle;\n",
       "    }\n",
       "\n",
       "    .dataframe tbody tr th {\n",
       "        vertical-align: top;\n",
       "    }\n",
       "\n",
       "    .dataframe thead th {\n",
       "        text-align: right;\n",
       "    }\n",
       "</style>\n",
       "<table border=\"1\" class=\"dataframe\">\n",
       "  <thead>\n",
       "    <tr style=\"text-align: right;\">\n",
       "      <th></th>\n",
       "      <th>PRIMER CONTACTO</th>\n",
       "    </tr>\n",
       "  </thead>\n",
       "  <tbody>\n",
       "    <tr>\n",
       "      <th>count</th>\n",
       "      <td>259</td>\n",
       "    </tr>\n",
       "    <tr>\n",
       "      <th>mean</th>\n",
       "      <td>2023-10-25 19:27:34.054054144</td>\n",
       "    </tr>\n",
       "    <tr>\n",
       "      <th>min</th>\n",
       "      <td>2022-01-01 00:00:00</td>\n",
       "    </tr>\n",
       "    <tr>\n",
       "      <th>25%</th>\n",
       "      <td>2023-04-02 12:00:00</td>\n",
       "    </tr>\n",
       "    <tr>\n",
       "      <th>50%</th>\n",
       "      <td>2023-11-29 00:00:00</td>\n",
       "    </tr>\n",
       "    <tr>\n",
       "      <th>75%</th>\n",
       "      <td>2024-08-19 12:00:00</td>\n",
       "    </tr>\n",
       "    <tr>\n",
       "      <th>max</th>\n",
       "      <td>2025-01-24 00:00:00</td>\n",
       "    </tr>\n",
       "  </tbody>\n",
       "</table>\n",
       "</div>"
      ],
      "text/plain": [
       "                     PRIMER CONTACTO\n",
       "count                            259\n",
       "mean   2023-10-25 19:27:34.054054144\n",
       "min              2022-01-01 00:00:00\n",
       "25%              2023-04-02 12:00:00\n",
       "50%              2023-11-29 00:00:00\n",
       "75%              2024-08-19 12:00:00\n",
       "max              2025-01-24 00:00:00"
      ]
     },
     "execution_count": 7,
     "metadata": {},
     "output_type": "execute_result"
    }
   ],
   "source": [
    "df.describe()"
   ]
  },
  {
   "cell_type": "code",
   "execution_count": 8,
   "id": "5cb0c785",
   "metadata": {},
   "outputs": [
    {
     "data": {
      "text/html": [
       "<div>\n",
       "<style scoped>\n",
       "    .dataframe tbody tr th:only-of-type {\n",
       "        vertical-align: middle;\n",
       "    }\n",
       "\n",
       "    .dataframe tbody tr th {\n",
       "        vertical-align: top;\n",
       "    }\n",
       "\n",
       "    .dataframe thead th {\n",
       "        text-align: right;\n",
       "    }\n",
       "</style>\n",
       "<table border=\"1\" class=\"dataframe\">\n",
       "  <thead>\n",
       "    <tr style=\"text-align: right;\">\n",
       "      <th></th>\n",
       "      <th>ULTIMO CONTACTO</th>\n",
       "      <th>NOMBRE</th>\n",
       "      <th>Sexo</th>\n",
       "      <th>Pareja</th>\n",
       "      <th>PROCEDENCIA</th>\n",
       "      <th>TELEFONO 1</th>\n",
       "      <th>TELEFONO 2</th>\n",
       "      <th>CORREO 1</th>\n",
       "      <th>CORREO 2</th>\n",
       "      <th>COMUNICACIÓN</th>\n",
       "      <th>...</th>\n",
       "      <th>CONOCE NUESTROS TRABAJOS Y SERVICIOS</th>\n",
       "      <th>MEDIO POR EL QUE NOS CONOCE</th>\n",
       "      <th>DOCUMENTOS</th>\n",
       "      <th>SE PRESENTO  PROPUESTA</th>\n",
       "      <th>FECHA EN QUE SE PRESENTO</th>\n",
       "      <th>ESTATUS</th>\n",
       "      <th>NOTAS</th>\n",
       "      <th>Unnamed: 24</th>\n",
       "      <th>Unnamed: 25</th>\n",
       "      <th>Unnamed: 26</th>\n",
       "    </tr>\n",
       "  </thead>\n",
       "  <tbody>\n",
       "    <tr>\n",
       "      <th>count</th>\n",
       "      <td>259</td>\n",
       "      <td>259</td>\n",
       "      <td>259</td>\n",
       "      <td>258</td>\n",
       "      <td>259</td>\n",
       "      <td>259</td>\n",
       "      <td>257</td>\n",
       "      <td>258</td>\n",
       "      <td>258</td>\n",
       "      <td>259</td>\n",
       "      <td>...</td>\n",
       "      <td>255</td>\n",
       "      <td>259</td>\n",
       "      <td>259</td>\n",
       "      <td>259</td>\n",
       "      <td>259</td>\n",
       "      <td>259</td>\n",
       "      <td>255</td>\n",
       "      <td>3</td>\n",
       "      <td>1</td>\n",
       "      <td>1</td>\n",
       "    </tr>\n",
       "    <tr>\n",
       "      <th>unique</th>\n",
       "      <td>132</td>\n",
       "      <td>253</td>\n",
       "      <td>4</td>\n",
       "      <td>3</td>\n",
       "      <td>32</td>\n",
       "      <td>143</td>\n",
       "      <td>7</td>\n",
       "      <td>76</td>\n",
       "      <td>8</td>\n",
       "      <td>5</td>\n",
       "      <td>...</td>\n",
       "      <td>3</td>\n",
       "      <td>7</td>\n",
       "      <td>3</td>\n",
       "      <td>3</td>\n",
       "      <td>23</td>\n",
       "      <td>4</td>\n",
       "      <td>43</td>\n",
       "      <td>3</td>\n",
       "      <td>1</td>\n",
       "      <td>1</td>\n",
       "    </tr>\n",
       "    <tr>\n",
       "      <th>top</th>\n",
       "      <td>-</td>\n",
       "      <td>Alejandro Trujillo</td>\n",
       "      <td>Hombre</td>\n",
       "      <td>-</td>\n",
       "      <td>-</td>\n",
       "      <td>-</td>\n",
       "      <td>-</td>\n",
       "      <td>-</td>\n",
       "      <td>-</td>\n",
       "      <td>Whatsapp</td>\n",
       "      <td>...</td>\n",
       "      <td>-</td>\n",
       "      <td>-</td>\n",
       "      <td>-</td>\n",
       "      <td>-</td>\n",
       "      <td>-</td>\n",
       "      <td>Olvidar</td>\n",
       "      <td>-</td>\n",
       "      <td>enviarle presentacion que va a preparar Orlando</td>\n",
       "      <td>donde te encuenytras con tus proyectos, tienes...</td>\n",
       "      <td>si necesitan una casa, el estudio puede hacer ...</td>\n",
       "    </tr>\n",
       "    <tr>\n",
       "      <th>freq</th>\n",
       "      <td>68</td>\n",
       "      <td>2</td>\n",
       "      <td>130</td>\n",
       "      <td>220</td>\n",
       "      <td>156</td>\n",
       "      <td>115</td>\n",
       "      <td>251</td>\n",
       "      <td>182</td>\n",
       "      <td>251</td>\n",
       "      <td>131</td>\n",
       "      <td>...</td>\n",
       "      <td>162</td>\n",
       "      <td>72</td>\n",
       "      <td>135</td>\n",
       "      <td>119</td>\n",
       "      <td>232</td>\n",
       "      <td>207</td>\n",
       "      <td>212</td>\n",
       "      <td>1</td>\n",
       "      <td>1</td>\n",
       "      <td>1</td>\n",
       "    </tr>\n",
       "  </tbody>\n",
       "</table>\n",
       "<p>4 rows × 26 columns</p>\n",
       "</div>"
      ],
      "text/plain": [
       "       ULTIMO CONTACTO              NOMBRE    Sexo Pareja PROCEDENCIA  \\\n",
       "count              259                 259     259    258         259   \n",
       "unique             132                 253       4      3          32   \n",
       "top                  -  Alejandro Trujillo  Hombre      -           -   \n",
       "freq                68                   2     130    220         156   \n",
       "\n",
       "       TELEFONO 1 TELEFONO 2 CORREO 1 CORREO 2 COMUNICACIÓN  ...  \\\n",
       "count         259        257      258      258          259  ...   \n",
       "unique        143          7       76        8            5  ...   \n",
       "top             -          -        -        -     Whatsapp  ...   \n",
       "freq          115        251      182      251          131  ...   \n",
       "\n",
       "       CONOCE NUESTROS TRABAJOS Y SERVICIOS  MEDIO POR EL QUE NOS CONOCE  \\\n",
       "count                                   255                          259   \n",
       "unique                                    3                            7   \n",
       "top                                       -                            -   \n",
       "freq                                    162                           72   \n",
       "\n",
       "       DOCUMENTOS SE PRESENTO  PROPUESTA FECHA EN QUE SE PRESENTO  ESTATUS  \\\n",
       "count         259                    259                      259      259   \n",
       "unique          3                      3                       23        4   \n",
       "top             -                      -                        -  Olvidar   \n",
       "freq          135                    119                      232      207   \n",
       "\n",
       "       NOTAS                                      Unnamed: 24  \\\n",
       "count    255                                                3   \n",
       "unique    43                                                3   \n",
       "top        -  enviarle presentacion que va a preparar Orlando   \n",
       "freq     212                                                1   \n",
       "\n",
       "                                              Unnamed: 25  \\\n",
       "count                                                   1   \n",
       "unique                                                  1   \n",
       "top     donde te encuenytras con tus proyectos, tienes...   \n",
       "freq                                                    1   \n",
       "\n",
       "                                              Unnamed: 26  \n",
       "count                                                   1  \n",
       "unique                                                  1  \n",
       "top     si necesitan una casa, el estudio puede hacer ...  \n",
       "freq                                                    1  \n",
       "\n",
       "[4 rows x 26 columns]"
      ]
     },
     "execution_count": 8,
     "metadata": {},
     "output_type": "execute_result"
    }
   ],
   "source": [
    "df.describe(include=['object'])\n",
    "#analisis describtivo\n"
   ]
  },
  {
   "cell_type": "code",
   "execution_count": 9,
   "id": "a1f31b65",
   "metadata": {},
   "outputs": [
    {
     "data": {
      "text/plain": [
       "PRIMER CONTACTO                           0\n",
       "ULTIMO CONTACTO                           0\n",
       "NOMBRE                                    0\n",
       "Sexo                                      0\n",
       "Pareja                                    1\n",
       "PROCEDENCIA                               0\n",
       "TELEFONO 1                                0\n",
       "TELEFONO 2                                2\n",
       "CORREO 1                                  1\n",
       "CORREO 2                                  1\n",
       "COMUNICACIÓN                              0\n",
       "UBICACIÓN DE PROYECTO                     0\n",
       "AREA (M2)                               142\n",
       "TIPO DE PROYECTO                          0\n",
       "USO DE PROYECTO                           0\n",
       "CITA O VIDEOLLAMADA                       0\n",
       "FECHA                                     0\n",
       "CONOCE NUESTROS TRABAJOS Y SERVICIOS      4\n",
       "MEDIO POR EL QUE NOS CONOCE               0\n",
       "DOCUMENTOS                                0\n",
       "SE PRESENTO  PROPUESTA                    0\n",
       "FECHA EN QUE SE PRESENTO                  0\n",
       "ESTATUS                                   0\n",
       "NOTAS                                     4\n",
       "Unnamed: 24                             256\n",
       "Unnamed: 25                             258\n",
       "Unnamed: 26                             258\n",
       "dtype: int64"
      ]
     },
     "execution_count": 9,
     "metadata": {},
     "output_type": "execute_result"
    }
   ],
   "source": [
    "\n",
    "df.isnull().sum()"
   ]
  },
  {
   "cell_type": "code",
   "execution_count": 10,
   "id": "2874e532",
   "metadata": {},
   "outputs": [],
   "source": [
    "#df['AREA (M2)']= df['AREA (M2)'].astype('float')"
   ]
  },
  {
   "cell_type": "code",
   "execution_count": 11,
   "id": "ee8a8d57",
   "metadata": {},
   "outputs": [
    {
     "name": "stdout",
     "output_type": "stream",
     "text": [
      "<class 'pandas.core.frame.DataFrame'>\n",
      "RangeIndex: 259 entries, 0 to 258\n",
      "Data columns (total 27 columns):\n",
      " #   Column                                Non-Null Count  Dtype         \n",
      "---  ------                                --------------  -----         \n",
      " 0   PRIMER CONTACTO                       259 non-null    datetime64[ns]\n",
      " 1   ULTIMO CONTACTO                       259 non-null    object        \n",
      " 2   NOMBRE                                259 non-null    object        \n",
      " 3   Sexo                                  259 non-null    object        \n",
      " 4   Pareja                                258 non-null    object        \n",
      " 5   PROCEDENCIA                           259 non-null    object        \n",
      " 6   TELEFONO 1                            259 non-null    object        \n",
      " 7   TELEFONO 2                            257 non-null    object        \n",
      " 8   CORREO 1                              258 non-null    object        \n",
      " 9   CORREO 2                              258 non-null    object        \n",
      " 10  COMUNICACIÓN                          259 non-null    object        \n",
      " 11  UBICACIÓN DE PROYECTO                 259 non-null    object        \n",
      " 12  AREA (M2)                             259 non-null    float64       \n",
      " 13  TIPO DE PROYECTO                      259 non-null    object        \n",
      " 14  USO DE PROYECTO                       259 non-null    object        \n",
      " 15  CITA O VIDEOLLAMADA                   259 non-null    object        \n",
      " 16  FECHA                                 259 non-null    object        \n",
      " 17  CONOCE NUESTROS TRABAJOS Y SERVICIOS  255 non-null    object        \n",
      " 18  MEDIO POR EL QUE NOS CONOCE           259 non-null    object        \n",
      " 19  DOCUMENTOS                            259 non-null    object        \n",
      " 20  SE PRESENTO  PROPUESTA                259 non-null    object        \n",
      " 21  FECHA EN QUE SE PRESENTO              259 non-null    object        \n",
      " 22  ESTATUS                               259 non-null    object        \n",
      " 23  NOTAS                                 255 non-null    object        \n",
      " 24  Unnamed: 24                           3 non-null      object        \n",
      " 25  Unnamed: 25                           1 non-null      object        \n",
      " 26  Unnamed: 26                           1 non-null      object        \n",
      "dtypes: datetime64[ns](1), float64(1), object(25)\n",
      "memory usage: 54.8+ KB\n",
      "None\n",
      "\n",
      "La columna 'AREA (M2)' ha sido limpiada y ahora es numérica.\n",
      "0    1971.911207\n",
      "1    1971.911207\n",
      "2    1971.911207\n",
      "3    1971.911207\n",
      "4    1971.911207\n",
      "Name: AREA (M2), dtype: float64\n"
     ]
    }
   ],
   "source": [
    "#imputar, reemplazar un valor por otro.\n",
    "import pandas as pd\n",
    "import numpy as np\n",
    "\n",
    "# Paso 1: Convertir la columna a tipo numérico, forzando los errores a NaN\n",
    "# Esto convertirá las fechas y otros textos a np.nan\n",
    "df['AREA (M2)'] = pd.to_numeric(df['AREA (M2)'], errors='coerce')\n",
    "\n",
    "# Paso 2: Imputar los valores NaN con la media de los valores ahora numéricos\n",
    "mean_area = df['AREA (M2)'].mean()\n",
    "df['AREA (M2)'] = df['AREA (M2)'].fillna(mean_area)\n",
    "\n",
    "print(df.info())\n",
    "print(\"\\nLa columna 'AREA (M2)' ha sido limpiada y ahora es numérica.\")\n",
    "print(df['AREA (M2)'].head()) \n"
   ]
  },
  {
   "cell_type": "code",
   "execution_count": 12,
   "id": "79e8f288",
   "metadata": {},
   "outputs": [],
   "source": [
    "df.drop(columns=['NOMBRE', 'TELEFONO 1', 'TELEFONO 2', 'CORREO 1', 'CORREO 2','NOTAS'], inplace=True)"
   ]
  },
  {
   "cell_type": "code",
   "execution_count": 13,
   "id": "20baca94",
   "metadata": {},
   "outputs": [],
   "source": [
    "columnas_categoricas= ['ULTIMO CONTACTO','Sexo','Pareja','PROCEDENCIA','COMUNICACIÓN', 'UBICACIÓN DE PROYECTO', 'AREA (M2)','TIPO DE PROYECTO', 'USO DE PROYECTO', 'CITA O VIDEOLLAMADA', 'FECHA','CONOCE NUESTROS TRABAJOS Y SERVICIOS', 'MEDIO POR EL QUE NOS CONOCE','DOCUMENTOS', 'SE PRESENTO  PROPUESTA', 'FECHA EN QUE SE ','ESTATUS', 'NOTAS', 'Unnamed: 24', 'Unnamed: 25', 'Unnamed: 26']"
   ]
  },
  {
   "cell_type": "code",
   "execution_count": 14,
   "id": "0d7fccb9",
   "metadata": {},
   "outputs": [
    {
     "name": "stdout",
     "output_type": "stream",
     "text": [
      "Index(['PRIMER CONTACTO', 'ULTIMO CONTACTO', 'Sexo', 'Pareja', 'PROCEDENCIA',\n",
      "       'COMUNICACIÓN', 'UB_P', 'AREA (M2)', 'TIPO_P', 'USO_P', 'CITA_O_V',\n",
      "       'FECHA', 'CONOCE_SERV', 'MEDIO_C', 'DOCUMENTOS', 'PP', 'FP', 'ESTATUS',\n",
      "       'Unnamed: 24', 'Unnamed: 25', 'Unnamed: 26'],\n",
      "      dtype='object')\n"
     ]
    }
   ],
   "source": [
    "df.rename(columns={\n",
    "    'UBICACIÓN DE PROYECTO': 'UB_P',\n",
    "    'TIPO DE PROYECTO': 'TIPO_P',\n",
    "    'USO DE PROYECTO': 'USO_P',\n",
    "    'CITA O VIDEOLLAMADA': 'CITA_O_V',\n",
    "    'CONOCE NUESTROS TRABAJOS Y SERVICIOS': 'CONOCE_SERV',\n",
    "    'MEDIO POR EL QUE NOS CONOCE': 'MEDIO_C',\n",
    "    'SE PRESENTO  PROPUESTA': 'PP', # Nota: \\xa0 es un espacio de no-separación, común en datos de Excel\n",
    "    'FECHA EN QUE SE PRESENTO': 'FP'\n",
    "}, inplace=True)\n",
    "\n",
    "print(df.columns)"
   ]
  },
  {
   "cell_type": "code",
   "execution_count": 15,
   "id": "7ad3d1d2",
   "metadata": {},
   "outputs": [
    {
     "data": {
      "image/png": "[encoded data removed]",
      "text/plain": [
       "<Figure size 1200x700 with 1 Axes>"
      ]
     },
     "metadata": {},
     "output_type": "display_data"
    }
   ],
   "source": [
    "import pandas as pd\n",
    "import matplotlib.pyplot as plt\n",
    "\n",
    "# Asegurarse de que ambas columnas son de tipo datetime\n",
    "df['PRIMER CONTACTO'] = pd.to_datetime(df['PRIMER CONTACTO'], errors='coerce')\n",
    "df['ULTIMO CONTACTO'] = pd.to_datetime(df['ULTIMO CONTACTO'], errors='coerce')\n",
    "\n",
    "# 1. Crear un DataFrame largo uniendo las dos columnas de fecha\n",
    "# Esto apila las fechas en una sola columna y crea una para la etiqueta.\n",
    "df_long = pd.melt(df, \n",
    "                  id_vars=[col for col in df.columns if col not in ['PRIMER CONTACTO', 'ULTIMO CONTACTO']],\n",
    "                  value_vars=['PRIMER CONTACTO', 'ULTIMO CONTACTO'],\n",
    "                  var_name='Tipo_Contacto',\n",
    "                  value_name='Fecha_Contacto')\n",
    "\n",
    "# 2. Eliminar las filas con valores nulos (NaN) si es necesario\n",
    "df_long.dropna(subset=['Fecha_Contacto'], inplace=True)\n",
    "\n",
    "# 3. Extraer el mes y agrupar para contar la frecuencia\n",
    "df_long['Mes'] = df_long['Fecha_Contacto'].dt.to_period('M')\n",
    "\n",
    "# Contar la frecuencia de cada tipo de contacto por mes\n",
    "conteo_mensual = df_long.groupby(['Mes', 'Tipo_Contacto']).size().unstack(fill_value=0)\n",
    "\n",
    "# 4. Preparar el índice para el gráfico\n",
    "conteo_mensual.index = conteo_mensual.index.astype(str)\n",
    "\n",
    "# 5. Crear el gráfico de líneas\n",
    "conteo_mensual.plot(kind='line', marker='o', figsize=(12, 7))\n",
    "\n",
    "# Personalizar el gráfico\n",
    "plt.title('Frecuencia de Primer y Último Contacto por Mes', fontsize=16)\n",
    "plt.xlabel('Mes', fontsize=12)\n",
    "plt.ylabel('Número de Contactos', fontsize=12)\n",
    "plt.grid(True, linestyle='--', alpha=0.6)\n",
    "plt.legend(title='Tipo de Contacto', fontsize=10, title_fontsize=12)\n",
    "plt.xticks(rotation=45)\n",
    "plt.tight_layout()\n",
    "plt.show()"
   ]
  },
  {
   "cell_type": "code",
   "execution_count": 16,
   "id": "e268e37a",
   "metadata": {},
   "outputs": [
    {
     "data": {
      "text/plain": [
       "Index(['PRIMER CONTACTO', 'ULTIMO CONTACTO', 'Sexo', 'Pareja', 'PROCEDENCIA',\n",
       "       'COMUNICACIÓN', 'UB_P', 'AREA (M2)', 'TIPO_P', 'USO_P', 'CITA_O_V',\n",
       "       'FECHA', 'CONOCE_SERV', 'MEDIO_C', 'DOCUMENTOS', 'PP', 'FP', 'ESTATUS',\n",
       "       'Unnamed: 24', 'Unnamed: 25', 'Unnamed: 26'],\n",
       "      dtype='object')"
      ]
     },
     "execution_count": 16,
     "metadata": {},
     "output_type": "execute_result"
    }
   ],
   "source": [
    "df.columns"
   ]
  },
  {
   "cell_type": "code",
   "execution_count": 17,
   "id": "73437306",
   "metadata": {},
   "outputs": [
    {
     "name": "stdout",
     "output_type": "stream",
     "text": [
      "s p pr c ub t u cita sp fp e\n"
     ]
    }
   ],
   "source": [
    "#empezare a analizar las variables categoricas\n",
    "\n",
    "import matplotlib.pyplot as plt\n",
    "import seaborn as sns\n",
    "\n",
    "s=df.groupby('Sexo').size().reset_index()\n",
    "p=df.groupby('Pareja').size().reset_index()\n",
    "pr=df.groupby('PROCEDENCIA').size().reset_index()\n",
    "c=df.groupby('COMUNICACIÓN').size().reset_index()\n",
    "ub=df.groupby('UB_P').size().reset_index()\n",
    "t=df.groupby('TIPO_P').size().reset_index()\n",
    "u=df.groupby('USO_P').size().reset_index()\n",
    "cita=df.groupby('CITA_O_V').size().reset_index()\n",
    "pp=df.groupby('PP').size().reset_index()\n",
    "e=df.groupby('ESTATUS').size().reset_index()\n",
    "print('s','p','pr','c','ub','t','u','cita','sp','fp','e')"
   ]
  },
  {
   "cell_type": "code",
   "execution_count": 18,
   "id": "659901fe",
   "metadata": {},
   "outputs": [
    {
     "data": {
      "image/png": "[encoded data removed]",
      "text/plain": [
       "<Figure size 1500x1500 with 9 Axes>"
      ]
     },
     "metadata": {},
     "output_type": "display_data"
    }
   ],
   "source": [
    "import matplotlib.pyplot as plt\n",
    "\n",
    "\n",
    "fig, axes = plt.subplots(nrows=3, ncols=3, figsize=(15, 15))  # Ajusta nrows, ncols y figsize según tus necesidades\n",
    "\n",
    "# Graficar cada conjunto de datos en un subplot diferente\n",
    "axes[0, 0].bar(s.Sexo, s[0])\n",
    "axes[0, 0].set_title(\"Sexo\")\n",
    "\n",
    "axes[0, 1].bar(p.Pareja, p[0])\n",
    "axes[0, 1].set_title(\"Pareja\")\n",
    "axes[0, 1].tick_params(axis='x', labelrotation=45)\n",
    "\n",
    "axes[0, 2].bar(pr.PROCEDENCIA, pr[0])\n",
    "axes[0, 2].set_title(\"PROCEDENCIA\")\n",
    "axes[0, 2].tick_params(axis='x', labelrotation=45)\n",
    "\n",
    "axes[1, 0].bar(c.COMUNICACIÓN, c[0])\n",
    "axes[1, 0].set_title(\"COMUNICACIÓN\")\n",
    "\n",
    "axes[1, 0].bar(ub.UB_P, ub[0])\n",
    "axes[1, 0].set_title(\"UB_P\")\n",
    "\n",
    "axes[1, 1].bar(t.TIPO_P, t[0])\n",
    "axes[1, 1].set_title(\"TIPO_P\")\n",
    "\n",
    "axes[1, 2].bar(u.USO_P, u[0])\n",
    "axes[1, 2].set_title(\"USO_P\")\n",
    "\n",
    "axes[2, 0].bar(cita.CITA_O_V, cita[0])\n",
    "axes[2, 0].set_title(\"CITA_O_V\")\n",
    "\n",
    "axes[2,1].bar(pp.PP, pp[0])\n",
    "axes[2, 1].set_title(\"PP\")\n",
    "\n",
    "axes[2, 2].bar(e.ESTATUS, e[0])\n",
    "axes[2, 2].set_title(\"ESTATUS\")\n",
    "\n",
    "\n",
    "plt.tight_layout()\n",
    "\n",
    "plt.show()"
   ]
  },
  {
   "cell_type": "code",
   "execution_count": 63,
   "id": "df3455d3",
   "metadata": {},
   "outputs": [
    {
     "data": {
      "text/plain": [
       "Index(['PRIMER CONTACTO', 'ULTIMO CONTACTO', 'Sexo', 'Pareja', 'PROCEDENCIA',\n",
       "       'COMUNICACIÓN', 'UB_P', 'AREA (M2)', 'TIPO_P', 'USO_P', 'CITA_O_V',\n",
       "       'FECHA', 'CONOCE_SERV', 'MEDIO_C', 'DOCUMENTOS', 'PP', 'FP', 'ESTATUS',\n",
       "       'Sexon', 'PRIMER CONTACTON', 'ULTIMO CONTACTON', 'ParejaN',\n",
       "       'PROCEDENCIAN', 'COMUNICACIÓNN', 'UB_PN', 'TIPO_PN', 'USO_PN',\n",
       "       'CITA_O_VN', 'FECHAN', 'CONOCE_SERVN', 'MEDIO_CN', 'DOCUMENTOSN', 'PPN',\n",
       "       'FPN', 'ESTATUSN'],\n",
       "      dtype='object')"
      ]
     },
     "execution_count": 63,
     "metadata": {},
     "output_type": "execute_result"
    }
   ],
   "source": [
    "df.columns"
   ]
  },
  {
   "cell_type": "code",
   "execution_count": 64,
   "id": "60c30db4",
   "metadata": {},
   "outputs": [
    {
     "name": "stdout",
     "output_type": "stream",
     "text": [
      "['-' 'Empresa' 'Hombre' 'Mujer']\n"
     ]
    }
   ],
   "source": [
    "from sklearn.preprocessing import LabelEncoder\n",
    "import numpy as np\n",
    "\n",
    "# Datos originales\n",
    "\n",
    "# Inicializa y entrena el codificador\n",
    "le = LabelEncoder()\n",
    "le.fit(df['Sexo'])\n",
    "\n",
    "# Muestra el mapeo (clases)\n",
    "print(le.classes_)\n",
    "# Salida: ['Grande' 'Mediano' 'Pequeño']\n",
    "\n"
   ]
  },
  {
   "cell_type": "code",
   "execution_count": 65,
   "id": "8289e056",
   "metadata": {},
   "outputs": [],
   "source": [
    "# Aplica la transformación\n",
    "df['Sexon'] = le.transform(df['Sexo'])"
   ]
  },
  {
   "cell_type": "code",
   "execution_count": 66,
   "id": "c9a1d604",
   "metadata": {},
   "outputs": [
    {
     "data": {
      "text/html": [
       "<div>\n",
       "<style scoped>\n",
       "    .dataframe tbody tr th:only-of-type {\n",
       "        vertical-align: middle;\n",
       "    }\n",
       "\n",
       "    .dataframe tbody tr th {\n",
       "        vertical-align: top;\n",
       "    }\n",
       "\n",
       "    .dataframe thead th {\n",
       "        text-align: right;\n",
       "    }\n",
       "</style>\n",
       "<table border=\"1\" class=\"dataframe\">\n",
       "  <thead>\n",
       "    <tr style=\"text-align: right;\">\n",
       "      <th></th>\n",
       "      <th>PRIMER CONTACTO</th>\n",
       "      <th>ULTIMO CONTACTO</th>\n",
       "      <th>Sexo</th>\n",
       "      <th>Pareja</th>\n",
       "      <th>PROCEDENCIA</th>\n",
       "      <th>COMUNICACIÓN</th>\n",
       "      <th>UB_P</th>\n",
       "      <th>AREA (M2)</th>\n",
       "      <th>TIPO_P</th>\n",
       "      <th>USO_P</th>\n",
       "      <th>...</th>\n",
       "      <th>TIPO_PN</th>\n",
       "      <th>USO_PN</th>\n",
       "      <th>CITA_O_VN</th>\n",
       "      <th>FECHAN</th>\n",
       "      <th>CONOCE_SERVN</th>\n",
       "      <th>MEDIO_CN</th>\n",
       "      <th>DOCUMENTOSN</th>\n",
       "      <th>PPN</th>\n",
       "      <th>FPN</th>\n",
       "      <th>ESTATUSN</th>\n",
       "    </tr>\n",
       "  </thead>\n",
       "  <tbody>\n",
       "    <tr>\n",
       "      <th>0</th>\n",
       "      <td>2022-01-01</td>\n",
       "      <td>2022-01-31</td>\n",
       "      <td>Mujer</td>\n",
       "      <td>-</td>\n",
       "      <td>-</td>\n",
       "      <td>-</td>\n",
       "      <td>Itzimná</td>\n",
       "      <td>1971.911207</td>\n",
       "      <td>-</td>\n",
       "      <td>-</td>\n",
       "      <td>...</td>\n",
       "      <td>0</td>\n",
       "      <td>0</td>\n",
       "      <td>2</td>\n",
       "      <td>0</td>\n",
       "      <td>2</td>\n",
       "      <td>3</td>\n",
       "      <td>0</td>\n",
       "      <td>0</td>\n",
       "      <td>0</td>\n",
       "      <td>1</td>\n",
       "    </tr>\n",
       "    <tr>\n",
       "      <th>1</th>\n",
       "      <td>2022-01-02</td>\n",
       "      <td>2022-01-13</td>\n",
       "      <td>Hombre</td>\n",
       "      <td>-</td>\n",
       "      <td>-</td>\n",
       "      <td>-</td>\n",
       "      <td>Centro</td>\n",
       "      <td>1971.911207</td>\n",
       "      <td>-</td>\n",
       "      <td>-</td>\n",
       "      <td>...</td>\n",
       "      <td>0</td>\n",
       "      <td>0</td>\n",
       "      <td>2</td>\n",
       "      <td>0</td>\n",
       "      <td>2</td>\n",
       "      <td>4</td>\n",
       "      <td>0</td>\n",
       "      <td>0</td>\n",
       "      <td>0</td>\n",
       "      <td>1</td>\n",
       "    </tr>\n",
       "    <tr>\n",
       "      <th>2</th>\n",
       "      <td>2022-01-03</td>\n",
       "      <td>NaT</td>\n",
       "      <td>Mujer</td>\n",
       "      <td>-</td>\n",
       "      <td>-</td>\n",
       "      <td>-</td>\n",
       "      <td>Centro</td>\n",
       "      <td>1971.911207</td>\n",
       "      <td>-</td>\n",
       "      <td>-</td>\n",
       "      <td>...</td>\n",
       "      <td>0</td>\n",
       "      <td>0</td>\n",
       "      <td>2</td>\n",
       "      <td>0</td>\n",
       "      <td>0</td>\n",
       "      <td>6</td>\n",
       "      <td>0</td>\n",
       "      <td>0</td>\n",
       "      <td>0</td>\n",
       "      <td>1</td>\n",
       "    </tr>\n",
       "    <tr>\n",
       "      <th>3</th>\n",
       "      <td>2022-01-04</td>\n",
       "      <td>NaT</td>\n",
       "      <td>Mujer</td>\n",
       "      <td>Sí</td>\n",
       "      <td>-</td>\n",
       "      <td>-</td>\n",
       "      <td>Colonia México</td>\n",
       "      <td>1971.911207</td>\n",
       "      <td>-</td>\n",
       "      <td>-</td>\n",
       "      <td>...</td>\n",
       "      <td>0</td>\n",
       "      <td>0</td>\n",
       "      <td>2</td>\n",
       "      <td>0</td>\n",
       "      <td>0</td>\n",
       "      <td>4</td>\n",
       "      <td>0</td>\n",
       "      <td>2</td>\n",
       "      <td>0</td>\n",
       "      <td>0</td>\n",
       "    </tr>\n",
       "    <tr>\n",
       "      <th>4</th>\n",
       "      <td>2022-01-05</td>\n",
       "      <td>2022-01-30</td>\n",
       "      <td>Mujer</td>\n",
       "      <td>-</td>\n",
       "      <td>-</td>\n",
       "      <td>-</td>\n",
       "      <td>Azcorra</td>\n",
       "      <td>1971.911207</td>\n",
       "      <td>-</td>\n",
       "      <td>-</td>\n",
       "      <td>...</td>\n",
       "      <td>0</td>\n",
       "      <td>0</td>\n",
       "      <td>0</td>\n",
       "      <td>0</td>\n",
       "      <td>0</td>\n",
       "      <td>4</td>\n",
       "      <td>0</td>\n",
       "      <td>0</td>\n",
       "      <td>0</td>\n",
       "      <td>1</td>\n",
       "    </tr>\n",
       "    <tr>\n",
       "      <th>...</th>\n",
       "      <td>...</td>\n",
       "      <td>...</td>\n",
       "      <td>...</td>\n",
       "      <td>...</td>\n",
       "      <td>...</td>\n",
       "      <td>...</td>\n",
       "      <td>...</td>\n",
       "      <td>...</td>\n",
       "      <td>...</td>\n",
       "      <td>...</td>\n",
       "      <td>...</td>\n",
       "      <td>...</td>\n",
       "      <td>...</td>\n",
       "      <td>...</td>\n",
       "      <td>...</td>\n",
       "      <td>...</td>\n",
       "      <td>...</td>\n",
       "      <td>...</td>\n",
       "      <td>...</td>\n",
       "      <td>...</td>\n",
       "      <td>...</td>\n",
       "    </tr>\n",
       "    <tr>\n",
       "      <th>254</th>\n",
       "      <td>2025-01-06</td>\n",
       "      <td>2025-01-15</td>\n",
       "      <td>Mujer</td>\n",
       "      <td>-</td>\n",
       "      <td>-</td>\n",
       "      <td>Whatsapp</td>\n",
       "      <td>Carretera de Telchac</td>\n",
       "      <td>300.000000</td>\n",
       "      <td>Nueva</td>\n",
       "      <td>Residencia</td>\n",
       "      <td>...</td>\n",
       "      <td>3</td>\n",
       "      <td>23</td>\n",
       "      <td>2</td>\n",
       "      <td>81</td>\n",
       "      <td>0</td>\n",
       "      <td>0</td>\n",
       "      <td>0</td>\n",
       "      <td>0</td>\n",
       "      <td>0</td>\n",
       "      <td>1</td>\n",
       "    </tr>\n",
       "    <tr>\n",
       "      <th>255</th>\n",
       "      <td>2025-01-13</td>\n",
       "      <td>2025-01-16</td>\n",
       "      <td>Hombre</td>\n",
       "      <td>Sí</td>\n",
       "      <td>-</td>\n",
       "      <td>Whatsapp</td>\n",
       "      <td>Ciudad del Carmen</td>\n",
       "      <td>420.000000</td>\n",
       "      <td>Remodelación</td>\n",
       "      <td>Residencia</td>\n",
       "      <td>...</td>\n",
       "      <td>4</td>\n",
       "      <td>23</td>\n",
       "      <td>2</td>\n",
       "      <td>82</td>\n",
       "      <td>0</td>\n",
       "      <td>0</td>\n",
       "      <td>0</td>\n",
       "      <td>0</td>\n",
       "      <td>0</td>\n",
       "      <td>2</td>\n",
       "    </tr>\n",
       "    <tr>\n",
       "      <th>256</th>\n",
       "      <td>2025-01-13</td>\n",
       "      <td>2025-01-16</td>\n",
       "      <td>Hombre</td>\n",
       "      <td>Sí</td>\n",
       "      <td>-</td>\n",
       "      <td>Whatsapp</td>\n",
       "      <td>Ciudad del Carmen</td>\n",
       "      <td>1600.000000</td>\n",
       "      <td>Nueva</td>\n",
       "      <td>Residencia</td>\n",
       "      <td>...</td>\n",
       "      <td>3</td>\n",
       "      <td>23</td>\n",
       "      <td>2</td>\n",
       "      <td>82</td>\n",
       "      <td>0</td>\n",
       "      <td>0</td>\n",
       "      <td>0</td>\n",
       "      <td>0</td>\n",
       "      <td>0</td>\n",
       "      <td>2</td>\n",
       "    </tr>\n",
       "    <tr>\n",
       "      <th>257</th>\n",
       "      <td>2025-01-20</td>\n",
       "      <td>2024-01-22</td>\n",
       "      <td>Mujer</td>\n",
       "      <td>Sí</td>\n",
       "      <td>-</td>\n",
       "      <td>Whatsapp</td>\n",
       "      <td>Pensiones</td>\n",
       "      <td>1971.911207</td>\n",
       "      <td>Remodelación</td>\n",
       "      <td>Residencia</td>\n",
       "      <td>...</td>\n",
       "      <td>4</td>\n",
       "      <td>23</td>\n",
       "      <td>0</td>\n",
       "      <td>0</td>\n",
       "      <td>2</td>\n",
       "      <td>6</td>\n",
       "      <td>0</td>\n",
       "      <td>0</td>\n",
       "      <td>0</td>\n",
       "      <td>2</td>\n",
       "    </tr>\n",
       "    <tr>\n",
       "      <th>258</th>\n",
       "      <td>2025-01-24</td>\n",
       "      <td>2025-01-24</td>\n",
       "      <td>Hombre</td>\n",
       "      <td>Sí</td>\n",
       "      <td>Estados Unidos</td>\n",
       "      <td>Correo</td>\n",
       "      <td>La Ermita</td>\n",
       "      <td>1971.911207</td>\n",
       "      <td>Remodelación</td>\n",
       "      <td>Residencia</td>\n",
       "      <td>...</td>\n",
       "      <td>4</td>\n",
       "      <td>23</td>\n",
       "      <td>0</td>\n",
       "      <td>0</td>\n",
       "      <td>2</td>\n",
       "      <td>5</td>\n",
       "      <td>0</td>\n",
       "      <td>0</td>\n",
       "      <td>0</td>\n",
       "      <td>2</td>\n",
       "    </tr>\n",
       "  </tbody>\n",
       "</table>\n",
       "<p>259 rows × 35 columns</p>\n",
       "</div>"
      ],
      "text/plain": [
       "    PRIMER CONTACTO ULTIMO CONTACTO    Sexo Pareja     PROCEDENCIA  \\\n",
       "0        2022-01-01      2022-01-31   Mujer      -               -   \n",
       "1        2022-01-02      2022-01-13  Hombre      -               -   \n",
       "2        2022-01-03             NaT   Mujer      -               -   \n",
       "3        2022-01-04             NaT   Mujer     Sí               -   \n",
       "4        2022-01-05      2022-01-30   Mujer      -               -   \n",
       "..              ...             ...     ...    ...             ...   \n",
       "254      2025-01-06      2025-01-15   Mujer      -               -   \n",
       "255      2025-01-13      2025-01-16  Hombre     Sí               -   \n",
       "256      2025-01-13      2025-01-16  Hombre     Sí               -   \n",
       "257      2025-01-20      2024-01-22   Mujer     Sí               -   \n",
       "258      2025-01-24      2025-01-24  Hombre     Sí  Estados Unidos   \n",
       "\n",
       "    COMUNICACIÓN                  UB_P    AREA (M2)        TIPO_P       USO_P  \\\n",
       "0              -               Itzimná  1971.911207             -           -   \n",
       "1              -                Centro  1971.911207             -           -   \n",
       "2              -                Centro  1971.911207             -           -   \n",
       "3              -        Colonia México  1971.911207             -           -   \n",
       "4              -               Azcorra  1971.911207             -           -   \n",
       "..           ...                   ...          ...           ...         ...   \n",
       "254     Whatsapp  Carretera de Telchac   300.000000         Nueva  Residencia   \n",
       "255     Whatsapp     Ciudad del Carmen   420.000000  Remodelación  Residencia   \n",
       "256     Whatsapp     Ciudad del Carmen  1600.000000         Nueva  Residencia   \n",
       "257     Whatsapp             Pensiones  1971.911207  Remodelación  Residencia   \n",
       "258       Correo             La Ermita  1971.911207  Remodelación  Residencia   \n",
       "\n",
       "     ... TIPO_PN USO_PN CITA_O_VN FECHAN CONOCE_SERVN MEDIO_CN DOCUMENTOSN  \\\n",
       "0    ...       0      0         2      0            2        3           0   \n",
       "1    ...       0      0         2      0            2        4           0   \n",
       "2    ...       0      0         2      0            0        6           0   \n",
       "3    ...       0      0         2      0            0        4           0   \n",
       "4    ...       0      0         0      0            0        4           0   \n",
       "..   ...     ...    ...       ...    ...          ...      ...         ...   \n",
       "254  ...       3     23         2     81            0        0           0   \n",
       "255  ...       4     23         2     82            0        0           0   \n",
       "256  ...       3     23         2     82            0        0           0   \n",
       "257  ...       4     23         0      0            2        6           0   \n",
       "258  ...       4     23         0      0            2        5           0   \n",
       "\n",
       "    PPN  FPN  ESTATUSN  \n",
       "0     0    0         1  \n",
       "1     0    0         1  \n",
       "2     0    0         1  \n",
       "3     2    0         0  \n",
       "4     0    0         1  \n",
       "..   ..  ...       ...  \n",
       "254   0    0         1  \n",
       "255   0    0         2  \n",
       "256   0    0         2  \n",
       "257   0    0         2  \n",
       "258   0    0         2  \n",
       "\n",
       "[259 rows x 35 columns]"
      ]
     },
     "execution_count": 66,
     "metadata": {},
     "output_type": "execute_result"
    }
   ],
   "source": [
    "df"
   ]
  },
  {
   "cell_type": "code",
   "execution_count": 67,
   "id": "ea655823",
   "metadata": {},
   "outputs": [
    {
     "name": "stdout",
     "output_type": "stream",
     "text": [
      "['2022-01-01T00:00:00.000000000' '2022-01-02T00:00:00.000000000'\n",
      " '2022-01-03T00:00:00.000000000' '2022-01-04T00:00:00.000000000'\n",
      " '2022-01-05T00:00:00.000000000' '2022-02-01T00:00:00.000000000'\n",
      " '2022-02-02T00:00:00.000000000' '2022-02-03T00:00:00.000000000'\n",
      " '2022-02-04T00:00:00.000000000' '2022-03-01T00:00:00.000000000'\n",
      " '2022-03-02T00:00:00.000000000' '2022-03-03T00:00:00.000000000'\n",
      " '2022-03-04T00:00:00.000000000' '2022-03-05T00:00:00.000000000'\n",
      " '2022-03-06T00:00:00.000000000' '2022-04-01T00:00:00.000000000'\n",
      " '2022-04-02T00:00:00.000000000' '2022-04-03T00:00:00.000000000'\n",
      " '2022-05-01T00:00:00.000000000' '2022-05-02T00:00:00.000000000'\n",
      " '2022-05-03T00:00:00.000000000' '2022-05-04T00:00:00.000000000'\n",
      " '2022-05-05T00:00:00.000000000' '2022-05-06T00:00:00.000000000'\n",
      " '2022-06-01T00:00:00.000000000' '2022-06-02T00:00:00.000000000'\n",
      " '2022-07-01T00:00:00.000000000' '2022-07-02T00:00:00.000000000'\n",
      " '2022-07-03T00:00:00.000000000' '2022-07-04T00:00:00.000000000'\n",
      " '2022-08-01T00:00:00.000000000' '2022-08-02T00:00:00.000000000'\n",
      " '2022-08-03T00:00:00.000000000' '2022-08-04T00:00:00.000000000'\n",
      " '2022-08-05T00:00:00.000000000' '2022-08-06T00:00:00.000000000'\n",
      " '2022-09-01T00:00:00.000000000' '2022-09-02T00:00:00.000000000'\n",
      " '2022-09-03T00:00:00.000000000' '2022-09-04T00:00:00.000000000'\n",
      " '2022-09-05T00:00:00.000000000' '2022-09-06T00:00:00.000000000'\n",
      " '2022-09-07T00:00:00.000000000' '2022-11-01T00:00:00.000000000'\n",
      " '2022-11-02T00:00:00.000000000' '2022-11-03T00:00:00.000000000'\n",
      " '2022-11-04T00:00:00.000000000' '2022-11-05T00:00:00.000000000'\n",
      " '2022-12-01T00:00:00.000000000' '2023-01-01T00:00:00.000000000'\n",
      " '2023-01-02T00:00:00.000000000' '2023-01-03T00:00:00.000000000'\n",
      " '2023-02-01T00:00:00.000000000' '2023-02-02T00:00:00.000000000'\n",
      " '2023-02-03T00:00:00.000000000' '2023-02-04T00:00:00.000000000'\n",
      " '2023-02-05T00:00:00.000000000' '2023-02-06T00:00:00.000000000'\n",
      " '2023-02-07T00:00:00.000000000' '2023-03-01T00:00:00.000000000'\n",
      " '2023-03-02T00:00:00.000000000' '2023-03-03T00:00:00.000000000'\n",
      " '2023-03-04T00:00:00.000000000' '2023-04-01T00:00:00.000000000'\n",
      " '2023-04-02T00:00:00.000000000' '2023-04-03T00:00:00.000000000'\n",
      " '2023-05-01T00:00:00.000000000' '2023-05-02T00:00:00.000000000'\n",
      " '2023-05-03T00:00:00.000000000' '2023-05-04T00:00:00.000000000'\n",
      " '2023-05-05T00:00:00.000000000' '2023-05-06T00:00:00.000000000'\n",
      " '2023-05-07T00:00:00.000000000' '2023-05-08T00:00:00.000000000'\n",
      " '2023-06-01T00:00:00.000000000' '2023-06-02T00:00:00.000000000'\n",
      " '2023-06-03T00:00:00.000000000' '2023-06-04T00:00:00.000000000'\n",
      " '2023-06-05T00:00:00.000000000' '2023-06-06T00:00:00.000000000'\n",
      " '2023-06-08T00:00:00.000000000' '2023-06-09T00:00:00.000000000'\n",
      " '2023-06-15T00:00:00.000000000' '2023-07-01T00:00:00.000000000'\n",
      " '2023-07-02T00:00:00.000000000' '2023-07-03T00:00:00.000000000'\n",
      " '2023-07-04T00:00:00.000000000' '2023-07-05T00:00:00.000000000'\n",
      " '2023-07-06T00:00:00.000000000' '2023-07-07T00:00:00.000000000'\n",
      " '2023-08-01T00:00:00.000000000' '2023-08-14T00:00:00.000000000'\n",
      " '2023-08-16T00:00:00.000000000' '2023-08-20T00:00:00.000000000'\n",
      " '2023-08-24T00:00:00.000000000' '2023-08-28T00:00:00.000000000'\n",
      " '2023-09-04T00:00:00.000000000' '2023-09-06T00:00:00.000000000'\n",
      " '2023-09-07T00:00:00.000000000' '2023-09-08T00:00:00.000000000'\n",
      " '2023-09-12T00:00:00.000000000' '2023-09-18T00:00:00.000000000'\n",
      " '2023-09-23T00:00:00.000000000' '2023-09-28T00:00:00.000000000'\n",
      " '2023-09-29T00:00:00.000000000' '2023-10-03T00:00:00.000000000'\n",
      " '2023-10-10T00:00:00.000000000' '2023-10-11T00:00:00.000000000'\n",
      " '2023-10-14T00:00:00.000000000' '2023-10-16T00:00:00.000000000'\n",
      " '2023-10-17T00:00:00.000000000' '2023-10-20T00:00:00.000000000'\n",
      " '2023-10-22T00:00:00.000000000' '2023-10-23T00:00:00.000000000'\n",
      " '2023-10-29T00:00:00.000000000' '2023-10-31T00:00:00.000000000'\n",
      " '2023-11-03T00:00:00.000000000' '2023-11-05T00:00:00.000000000'\n",
      " '2023-11-07T00:00:00.000000000' '2023-11-08T00:00:00.000000000'\n",
      " '2023-11-14T00:00:00.000000000' '2023-11-15T00:00:00.000000000'\n",
      " '2023-11-19T00:00:00.000000000' '2023-11-21T00:00:00.000000000'\n",
      " '2023-11-29T00:00:00.000000000' '2023-12-04T00:00:00.000000000'\n",
      " '2023-12-11T00:00:00.000000000' '2023-12-20T00:00:00.000000000'\n",
      " '2024-01-09T00:00:00.000000000' '2024-01-10T00:00:00.000000000'\n",
      " '2024-01-16T00:00:00.000000000' '2024-01-20T00:00:00.000000000'\n",
      " '2024-01-23T00:00:00.000000000' '2024-01-29T00:00:00.000000000'\n",
      " '2024-02-08T00:00:00.000000000' '2024-02-23T00:00:00.000000000'\n",
      " '2024-02-27T00:00:00.000000000' '2024-03-02T00:00:00.000000000'\n",
      " '2024-03-04T00:00:00.000000000' '2024-03-05T00:00:00.000000000'\n",
      " '2024-03-06T00:00:00.000000000' '2024-03-08T00:00:00.000000000'\n",
      " '2024-03-11T00:00:00.000000000' '2024-03-15T00:00:00.000000000'\n",
      " '2024-03-18T00:00:00.000000000' '2024-03-19T00:00:00.000000000'\n",
      " '2024-03-21T00:00:00.000000000' '2024-03-25T00:00:00.000000000'\n",
      " '2024-03-27T00:00:00.000000000' '2024-04-02T00:00:00.000000000'\n",
      " '2024-04-05T00:00:00.000000000' '2024-04-08T00:00:00.000000000'\n",
      " '2024-04-09T00:00:00.000000000' '2024-04-16T00:00:00.000000000'\n",
      " '2024-04-17T00:00:00.000000000' '2024-04-22T00:00:00.000000000'\n",
      " '2024-04-23T00:00:00.000000000' '2024-04-24T00:00:00.000000000'\n",
      " '2024-05-08T00:00:00.000000000' '2024-05-16T00:00:00.000000000'\n",
      " '2024-05-21T00:00:00.000000000' '2024-05-23T00:00:00.000000000'\n",
      " '2024-05-24T00:00:00.000000000' '2024-05-28T00:00:00.000000000'\n",
      " '2024-05-31T00:00:00.000000000' '2024-06-03T00:00:00.000000000'\n",
      " '2024-06-20T00:00:00.000000000' '2024-06-25T00:00:00.000000000'\n",
      " '2024-06-28T00:00:00.000000000' '2024-07-08T00:00:00.000000000'\n",
      " '2024-07-09T00:00:00.000000000' '2024-07-10T00:00:00.000000000'\n",
      " '2024-07-17T00:00:00.000000000' '2024-08-03T00:00:00.000000000'\n",
      " '2024-08-09T00:00:00.000000000' '2024-08-12T00:00:00.000000000'\n",
      " '2024-08-13T00:00:00.000000000' '2024-08-19T00:00:00.000000000'\n",
      " '2024-08-20T00:00:00.000000000' '2024-08-21T00:00:00.000000000'\n",
      " '2024-08-23T00:00:00.000000000' '2024-08-27T00:00:00.000000000'\n",
      " '2024-08-28T00:00:00.000000000' '2024-08-29T00:00:00.000000000'\n",
      " '2024-08-30T00:00:00.000000000' '2024-09-01T00:00:00.000000000'\n",
      " '2024-09-06T00:00:00.000000000' '2024-09-08T00:00:00.000000000'\n",
      " '2024-09-09T00:00:00.000000000' '2024-09-10T00:00:00.000000000'\n",
      " '2024-09-11T00:00:00.000000000' '2024-09-13T00:00:00.000000000'\n",
      " '2024-09-17T00:00:00.000000000' '2024-09-18T00:00:00.000000000'\n",
      " '2024-09-20T00:00:00.000000000' '2024-09-24T00:00:00.000000000'\n",
      " '2024-09-25T00:00:00.000000000' '2024-10-03T00:00:00.000000000'\n",
      " '2024-10-07T00:00:00.000000000' '2024-10-09T00:00:00.000000000'\n",
      " '2024-10-10T00:00:00.000000000' '2024-10-12T00:00:00.000000000'\n",
      " '2024-10-14T00:00:00.000000000' '2024-10-17T00:00:00.000000000'\n",
      " '2024-10-20T00:00:00.000000000' '2024-10-22T00:00:00.000000000'\n",
      " '2024-10-28T00:00:00.000000000' '2024-10-31T00:00:00.000000000'\n",
      " '2024-11-04T00:00:00.000000000' '2024-11-05T00:00:00.000000000'\n",
      " '2024-11-08T00:00:00.000000000' '2024-11-09T00:00:00.000000000'\n",
      " '2024-11-11T00:00:00.000000000' '2024-11-13T00:00:00.000000000'\n",
      " '2024-11-19T00:00:00.000000000' '2024-12-03T00:00:00.000000000'\n",
      " '2024-12-07T00:00:00.000000000' '2024-12-30T00:00:00.000000000'\n",
      " '2025-01-04T00:00:00.000000000' '2025-01-06T00:00:00.000000000'\n",
      " '2025-01-13T00:00:00.000000000' '2025-01-20T00:00:00.000000000'\n",
      " '2025-01-24T00:00:00.000000000']\n"
     ]
    }
   ],
   "source": [
    "le = LabelEncoder()\n",
    "le.fit(df['PRIMER CONTACTO'])\n",
    "\n",
    "# Muestra el mapeo (clases)\n",
    "print(le.classes_)\n",
    "\n"
   ]
  },
  {
   "cell_type": "code",
   "execution_count": 68,
   "id": "f323bbfd",
   "metadata": {},
   "outputs": [],
   "source": [
    "df['PRIMER CONTACTON'] = le.transform(df['PRIMER CONTACTO'])"
   ]
  },
  {
   "cell_type": "code",
   "execution_count": 69,
   "id": "5ea5adc0",
   "metadata": {},
   "outputs": [
    {
     "name": "stdout",
     "output_type": "stream",
     "text": [
      "['2022-01-13T00:00:00.000000000' '2022-01-30T00:00:00.000000000'\n",
      " '2022-01-31T00:00:00.000000000' '2022-02-03T00:00:00.000000000'\n",
      " '2023-02-03T00:00:00.000000000' '2023-02-09T00:00:00.000000000'\n",
      " '2023-02-10T00:00:00.000000000' '2023-02-20T00:00:00.000000000'\n",
      " '2023-03-07T00:00:00.000000000' '2023-03-10T00:00:00.000000000'\n",
      " '2023-03-14T00:00:00.000000000' '2023-04-11T00:00:00.000000000'\n",
      " '2023-04-13T00:00:00.000000000' '2023-04-26T00:00:00.000000000'\n",
      " '2023-05-09T00:00:00.000000000' '2023-05-18T00:00:00.000000000'\n",
      " '2023-05-25T00:00:00.000000000' '2023-06-08T00:00:00.000000000'\n",
      " '2023-06-10T00:00:00.000000000' '2023-06-13T00:00:00.000000000'\n",
      " '2023-06-15T00:00:00.000000000' '2023-06-27T00:00:00.000000000'\n",
      " '2023-07-03T00:00:00.000000000' '2023-07-06T00:00:00.000000000'\n",
      " '2023-07-19T00:00:00.000000000' '2023-08-10T00:00:00.000000000'\n",
      " '2023-08-15T00:00:00.000000000' '2023-08-16T00:00:00.000000000'\n",
      " '2023-08-17T00:00:00.000000000' '2023-08-21T00:00:00.000000000'\n",
      " '2023-08-25T00:00:00.000000000' '2023-08-29T00:00:00.000000000'\n",
      " '2023-09-18T00:00:00.000000000' '2023-09-19T00:00:00.000000000'\n",
      " '2023-09-21T00:00:00.000000000' '2023-09-27T00:00:00.000000000'\n",
      " '2023-09-28T00:00:00.000000000' '2023-09-29T00:00:00.000000000'\n",
      " '2023-10-04T00:00:00.000000000' '2023-10-16T00:00:00.000000000'\n",
      " '2023-10-20T00:00:00.000000000' '2023-10-29T00:00:00.000000000'\n",
      " '2023-10-30T00:00:00.000000000' '2023-10-31T00:00:00.000000000'\n",
      " '2023-11-01T00:00:00.000000000' '2023-11-09T00:00:00.000000000'\n",
      " '2023-11-13T00:00:00.000000000' '2023-11-15T00:00:00.000000000'\n",
      " '2023-12-04T00:00:00.000000000' '2023-12-07T00:00:00.000000000'\n",
      " '2023-12-11T00:00:00.000000000' '2023-12-19T00:00:00.000000000'\n",
      " '2023-12-20T00:00:00.000000000' '2024-01-02T00:00:00.000000000'\n",
      " '2024-01-09T00:00:00.000000000' '2024-01-10T00:00:00.000000000'\n",
      " '2024-01-22T00:00:00.000000000' '2024-01-25T00:00:00.000000000'\n",
      " '2024-01-30T00:00:00.000000000' '2024-01-31T00:00:00.000000000'\n",
      " '2024-02-14T00:00:00.000000000' '2024-03-04T00:00:00.000000000'\n",
      " '2024-03-11T00:00:00.000000000' '2024-03-12T00:00:00.000000000'\n",
      " '2024-03-13T00:00:00.000000000' '2024-03-19T00:00:00.000000000'\n",
      " '2024-03-21T00:00:00.000000000' '2024-03-26T00:00:00.000000000'\n",
      " '2024-03-27T00:00:00.000000000' '2024-03-28T00:00:00.000000000'\n",
      " '2024-04-02T00:00:00.000000000' '2024-04-08T00:00:00.000000000'\n",
      " '2024-04-09T00:00:00.000000000' '2024-04-16T00:00:00.000000000'\n",
      " '2024-04-17T00:00:00.000000000' '2024-04-19T00:00:00.000000000'\n",
      " '2024-04-23T00:00:00.000000000' '2024-04-24T00:00:00.000000000'\n",
      " '2024-05-09T00:00:00.000000000' '2024-05-13T00:00:00.000000000'\n",
      " '2024-05-16T00:00:00.000000000' '2024-05-23T00:00:00.000000000'\n",
      " '2024-05-24T00:00:00.000000000' '2024-05-27T00:00:00.000000000'\n",
      " '2024-05-30T00:00:00.000000000' '2024-05-31T00:00:00.000000000'\n",
      " '2024-06-03T00:00:00.000000000' '2024-06-28T00:00:00.000000000'\n",
      " '2024-07-09T00:00:00.000000000' '2024-07-11T00:00:00.000000000'\n",
      " '2024-07-12T00:00:00.000000000' '2024-07-18T00:00:00.000000000'\n",
      " '2024-08-14T00:00:00.000000000' '2024-08-15T00:00:00.000000000'\n",
      " '2024-08-19T00:00:00.000000000' '2024-08-22T00:00:00.000000000'\n",
      " '2024-08-23T00:00:00.000000000' '2024-08-26T00:00:00.000000000'\n",
      " '2024-08-29T00:00:00.000000000' '2024-09-03T00:00:00.000000000'\n",
      " '2024-09-05T00:00:00.000000000' '2024-09-06T00:00:00.000000000'\n",
      " '2024-09-09T00:00:00.000000000' '2024-09-13T00:00:00.000000000'\n",
      " '2024-09-18T00:00:00.000000000' '2024-09-19T00:00:00.000000000'\n",
      " '2024-09-24T00:00:00.000000000' '2024-09-25T00:00:00.000000000'\n",
      " '2024-10-03T00:00:00.000000000' '2024-10-08T00:00:00.000000000'\n",
      " '2024-10-10T00:00:00.000000000' '2024-10-14T00:00:00.000000000'\n",
      " '2024-10-15T00:00:00.000000000' '2024-10-18T00:00:00.000000000'\n",
      " '2024-10-21T00:00:00.000000000' '2024-10-22T00:00:00.000000000'\n",
      " '2024-10-28T00:00:00.000000000' '2024-10-31T00:00:00.000000000'\n",
      " '2024-11-05T00:00:00.000000000' '2024-11-06T00:00:00.000000000'\n",
      " '2024-11-12T00:00:00.000000000' '2024-11-13T00:00:00.000000000'\n",
      " '2024-11-19T00:00:00.000000000' '2024-12-09T00:00:00.000000000'\n",
      " '2024-12-11T00:00:00.000000000' '2025-01-06T00:00:00.000000000'\n",
      " '2025-01-08T00:00:00.000000000' '2025-01-15T00:00:00.000000000'\n",
      " '2025-01-16T00:00:00.000000000' '2025-01-24T00:00:00.000000000'\n",
      "                           'NaT']\n"
     ]
    }
   ],
   "source": [
    "le = LabelEncoder()\n",
    "le.fit(df['ULTIMO CONTACTO'])\n",
    "\n",
    "# Muestra el mapeo (clases)\n",
    "print(le.classes_)"
   ]
  },
  {
   "cell_type": "code",
   "execution_count": 70,
   "id": "dd43c6a4",
   "metadata": {},
   "outputs": [],
   "source": [
    "df['ULTIMO CONTACTON'] = le.transform(df['ULTIMO CONTACTO'])"
   ]
  },
  {
   "cell_type": "code",
   "execution_count": 71,
   "id": "6cf1df0b",
   "metadata": {},
   "outputs": [
    {
     "name": "stdout",
     "output_type": "stream",
     "text": [
      "['-' 'No' 'Sí' nan]\n"
     ]
    }
   ],
   "source": [
    "le = LabelEncoder()\n",
    "le.fit(df['Pareja'])\n",
    "\n",
    "# Muestra el mapeo (clases)\n",
    "print(le.classes_)"
   ]
  },
  {
   "cell_type": "code",
   "execution_count": 72,
   "id": "5ae7dfc9",
   "metadata": {},
   "outputs": [],
   "source": [
    "df['ParejaN'] = le.transform(df['Pareja'])"
   ]
  },
  {
   "cell_type": "code",
   "execution_count": 73,
   "id": "9b2c3060",
   "metadata": {},
   "outputs": [
    {
     "name": "stdout",
     "output_type": "stream",
     "text": [
      "['-' 'Argentina' 'CDMX' 'Campeche' 'Canadá' 'Cancún' 'Chile'\n",
      " 'Ciudad de México' 'Colombia' 'Corea' 'Cozumel' 'Cuba' 'Emiratos Árabes'\n",
      " 'Estados Unidos' 'Francia' 'Guatemala' 'Italia' 'Jalisco' 'Los Ángeles'\n",
      " 'Mexicali' 'Mérida' 'México' 'Netherlands' 'New York' 'Panamá' 'Perú'\n",
      " 'Puebla' 'Puerto Rico' 'Saudi Arabia' 'Tabasco' 'Veracruz' 'Yucatán']\n"
     ]
    }
   ],
   "source": [
    "le = LabelEncoder()\n",
    "le.fit(df['PROCEDENCIA'])\n",
    "\n",
    "# Muestra el mapeo (clases)\n",
    "print(le.classes_)"
   ]
  },
  {
   "cell_type": "code",
   "execution_count": 74,
   "id": "aac890b7",
   "metadata": {},
   "outputs": [],
   "source": [
    "df['PROCEDENCIAN'] = le.transform(df['PROCEDENCIA'])"
   ]
  },
  {
   "cell_type": "code",
   "execution_count": 75,
   "id": "039ad797",
   "metadata": {},
   "outputs": [
    {
     "name": "stdout",
     "output_type": "stream",
     "text": [
      "['-' 'Correo' 'Llamada' 'Orlando' 'Whatsapp']\n"
     ]
    }
   ],
   "source": [
    "le= LabelEncoder()\n",
    "le.fit(df['COMUNICACIÓN'])\n",
    "\n",
    "# Muestra el mapeo (clases)\n",
    "print(le.classes_)"
   ]
  },
  {
   "cell_type": "code",
   "execution_count": 76,
   "id": "23601ec2",
   "metadata": {},
   "outputs": [],
   "source": [
    "df['COMUNICACIÓNN'] = le.transform(df['COMUNICACIÓN'])"
   ]
  },
  {
   "cell_type": "code",
   "execution_count": 77,
   "id": "066a2e2d",
   "metadata": {},
   "outputs": [
    {
     "name": "stdout",
     "output_type": "stream",
     "text": [
      "['-' 'Alena Residencial' 'Arborea' 'Arthouse' 'Azcapotzalco ' 'Azcorra'\n",
      " 'Bacalar' 'Blanca ' 'Blanca Residencial' 'Blancamérida' 'Buctzotz'\n",
      " 'Cabo Norte' 'Campeche' 'Cancún' 'Cansahcab'\n",
      " 'Carretera Conkal - Chicxulub' 'Carretera Progreso'\n",
      " 'Carretera de Cancún - Tixcocob' 'Carretera de Telchac' 'Castilla Camara'\n",
      " 'Caucel' 'Celestún' 'Centro' 'Centro (Colonia Esperanza)'\n",
      " 'Centro (Santiago)' 'Centro Sur' 'Chelem' 'Chenkú' 'Chiapas' 'Chicxulub'\n",
      " 'Chicxulub (Residencial Habinta)' 'Chile' 'Chocholá' 'Cholul' 'Chuburná'\n",
      " 'Ciudad Maderas' 'Ciudad de México' 'Ciudad del Carmen' 'Coayacán'\n",
      " 'Colonia Alemán' 'Colonia México' 'Conkal' 'Country' 'Coyoacán' 'Cozumel'\n",
      " 'Dzibichaltún' 'Dzityá' 'Ermita' 'Francisco de Montejo' 'García Ginerés'\n",
      " 'Gran Santa Fe Norte' 'Hacienda Chucmichén' 'Hacienda Sodzil Norte'\n",
      " 'Hunucmá' 'Itzimná' 'Izamal' 'Jalisco'\n",
      " 'Jalisco (Colonia Americana de Gaudal)' 'Juan B. Sosa' 'Juan Pablo II'\n",
      " 'Komchén' 'La Ermita' 'La Magdalena Contreras ' 'Lakuun' 'Las Américas'\n",
      " 'Maxcanú' 'Miguel Hidalgo' 'Montebello' 'Montes de Amé' 'Mérida'\n",
      " 'Netherlands' 'Nezahualcóyotl ' 'Panamá' 'Paseo de las fuentes'\n",
      " 'Pensiones' 'Plan de Ayala' 'Playa' 'Playa del Carmen'\n",
      " 'Playa del Carmen y Chetumal' 'Progreso' 'Prolongación Montejo'\n",
      " 'Provincia' 'Puerta Mayab' 'Puerto Morelos y Quintana Roo' 'Real Montejo'\n",
      " 'Residencial Blanca' 'Riyadh (Saudi Arabia)' 'Sabancuy (Campeche)'\n",
      " 'San Andrés' 'San Esteban' 'San Ignacio Progreso' 'San Ramón  '\n",
      " 'San Ramón Norte' 'San Sebastián' 'Santa Ana' 'Santa Clara'\n",
      " 'Santa Clara (Dzidzantún)' 'Seyé' 'Silvesta' 'Sisal-Telchac'\n",
      " 'Sol Campestre' 'Suytunchen' 'Tabasco' 'Tamara' 'Tehuacán (Puebla)'\n",
      " 'Telchac' 'Temozón' 'Temozón-Chablekal' 'Texán de Palomeque' 'Tixcuytun'\n",
      " 'Ucu' 'Valladolid' 'Vicente Solís' 'Yucaltepén' 'Yucatán' 'Zanzibar']\n"
     ]
    }
   ],
   "source": [
    "le = LabelEncoder()\n",
    "le.fit(df['UB_P'])\n",
    "\n",
    "# Muestra el mapeo (clases)\n",
    "print(le.classes_)"
   ]
  },
  {
   "cell_type": "code",
   "execution_count": 78,
   "id": "e759f741",
   "metadata": {},
   "outputs": [],
   "source": [
    "df['UB_PN'] = le.transform(df['UB_P'])"
   ]
  },
  {
   "cell_type": "code",
   "execution_count": 79,
   "id": "49ff7b40",
   "metadata": {},
   "outputs": [
    {
     "name": "stdout",
     "output_type": "stream",
     "text": [
      "['-' 'Interiorismo' 'Mobiliaria' 'Nueva' 'Remodelación']\n"
     ]
    }
   ],
   "source": [
    "le = LabelEncoder()\n",
    "le.fit(df['TIPO_P'])\n",
    "\n",
    "# Muestra el mapeo (clases)\n",
    "print(le.classes_)"
   ]
  },
  {
   "cell_type": "code",
   "execution_count": 80,
   "id": "cfbd0bbb",
   "metadata": {},
   "outputs": [],
   "source": [
    "df['TIPO_PN'] = le.transform(df['TIPO_P'])"
   ]
  },
  {
   "cell_type": "code",
   "execution_count": 81,
   "id": "a3bb4018",
   "metadata": {},
   "outputs": [
    {
     "name": "stdout",
     "output_type": "stream",
     "text": [
      "['-' '.' 'Airbnb' 'Almacén' 'Cafetería' 'Club Deportivo' 'Clínica dental'\n",
      " 'Cocina' 'Departamentos' 'Edificio' 'Estudio pilates' 'Hacienda'\n",
      " 'Heladería' 'Hotel' 'Hotel Boutique' 'Lofts' 'Mixto' 'Módulos renta'\n",
      " 'Nuevo' 'Oficinas' 'Paisajismo' 'Privada' 'Res. Vacacional' 'Residencia'\n",
      " 'Residencia p/venta' 'Restaurant' 'Segundo piso' 'Tiny studios'\n",
      " 'Town houses' 'Uso mixto' 'Villas']\n"
     ]
    }
   ],
   "source": [
    "le = LabelEncoder()\n",
    "le.fit(df['USO_P'])\n",
    "\n",
    "# Muestra el mapeo (clases)\n",
    "print(le.classes_)"
   ]
  },
  {
   "cell_type": "code",
   "execution_count": 82,
   "id": "82c0f640",
   "metadata": {},
   "outputs": [],
   "source": [
    "df['USO_PN'] = le.transform(df['USO_P'])"
   ]
  },
  {
   "cell_type": "code",
   "execution_count": 83,
   "id": "8547652f",
   "metadata": {},
   "outputs": [
    {
     "name": "stdout",
     "output_type": "stream",
     "text": [
      "['-' 'No' 'Sí']\n"
     ]
    }
   ],
   "source": [
    "le = LabelEncoder()\n",
    "le.fit(df['CITA_O_V'])\n",
    "\n",
    "# Muestra el mapeo (clases)\n",
    "print(le.classes_)"
   ]
  },
  {
   "cell_type": "code",
   "execution_count": 84,
   "id": "e40a9a36",
   "metadata": {},
   "outputs": [],
   "source": [
    "df['CITA_O_VN'] = le.transform(df['CITA_O_V'])"
   ]
  },
  {
   "cell_type": "code",
   "execution_count": 85,
   "id": "687e5feb",
   "metadata": {},
   "outputs": [
    {
     "name": "stdout",
     "output_type": "stream",
     "text": [
      "['-' '2023-06-29 00:00:00' '2023-09-18 00:00:00' '2023-09-20 00:00:00'\n",
      " '2023-09-21 00:00:00' '2023-09-27 00:00:00' '2023-09-29 00:00:00'\n",
      " '2023-10-05 00:00:00' '2023-10-16 00:00:00' '2023-10-19 00:00:00'\n",
      " '2023-10-24 00:00:00' '2023-11-09 00:00:00' '2023-11-15 00:00:00'\n",
      " '2023-11-21 00:00:00' '2023-11-28 00:00:00' '2023-12-04 00:00:00'\n",
      " '2023-12-11 00:00:00' '2023-12-12 00:00:00' '2023-12-20 00:00:00'\n",
      " '2024-01-08 00:00:00' '2024-01-18 00:00:00' '2024-01-30 00:00:00'\n",
      " '2024-02-10 00:00:00' '2024-02-14 00:00:00' '2024-03-05 00:00:00'\n",
      " '2024-03-06 00:00:00' '2024-03-08 00:00:00' '2024-03-11 00:00:00'\n",
      " '2024-03-13 00:00:00' '2024-03-19 00:00:00' '2024-03-25 00:00:00'\n",
      " '2024-03-27 00:00:00' '2024-03-28 00:00:00' '2024-04-01 00:00:00'\n",
      " '2024-04-09 00:00:00' '2024-04-12 00:00:00' '2024-04-16 00:00:00'\n",
      " '2024-04-24 00:00:00' '2024-04-25 00:00:00' '2024-04-30 00:00:00'\n",
      " '2024-05-03 00:00:00' '2024-05-06 00:00:00' '2024-05-09 00:00:00'\n",
      " '2024-05-17 00:00:00' '2024-05-20 00:00:00' '2024-05-24 00:00:00'\n",
      " '2024-05-29 00:00:00' '2024-05-31 00:00:00' '2024-06-05 00:00:00'\n",
      " '2024-07-03 00:00:00' '2024-07-15 00:00:00' '2024-07-17 00:00:00'\n",
      " '2024-07-18 00:00:00' '2024-08-14 00:00:00' '2024-08-15 00:00:00'\n",
      " '2024-08-19 00:00:00' '2024-08-23 00:00:00' '2024-08-27 00:00:00'\n",
      " '2024-08-30 00:00:00' '2024-09-03 00:00:00' '2024-09-07 00:00:00'\n",
      " '2024-09-10 00:00:00' '2024-09-11 00:00:00' '2024-09-12 00:00:00'\n",
      " '2024-09-18 00:00:00' '2024-09-19 00:00:00' '2024-09-26 00:00:00'\n",
      " '2024-10-02 00:00:00' '2024-10-07 00:00:00' '2024-10-10 00:00:00'\n",
      " '2024-10-17 00:00:00' '2024-10-21 00:00:00' '2024-10-23 00:00:00'\n",
      " '2024-11-06 00:00:00' '2024-11-11 00:00:00' '2024-11-12 00:00:00'\n",
      " '2024-11-13 00:00:00' '2024-11-19 00:00:00' '2024-12-13 00:00:00'\n",
      " '2024-12-17 00:00:00' '2024-12-18 00:00:00' '2025-01-20 00:00:00'\n",
      " '2025-01-21 00:00:00']\n"
     ]
    }
   ],
   "source": [
    "df['FECHA'] = df['FECHA'].astype(str)\n",
    "le.fit(df['FECHA'])\n",
    "\n",
    "# Muestra el mapeo (clases)\n",
    "print(le.classes_)"
   ]
  },
  {
   "cell_type": "code",
   "execution_count": 86,
   "id": "53ce8784",
   "metadata": {},
   "outputs": [],
   "source": [
    "df['FECHAN'] = le.transform(df['FECHA'])"
   ]
  },
  {
   "cell_type": "code",
   "execution_count": 87,
   "id": "08d6364f",
   "metadata": {},
   "outputs": [
    {
     "name": "stdout",
     "output_type": "stream",
     "text": [
      "['-' 'No' 'Sí' nan]\n"
     ]
    }
   ],
   "source": [
    "le = LabelEncoder()\n",
    "le.fit(df['CONOCE_SERV'])\n",
    "\n",
    "# Muestra el mapeo (clases)\n",
    "print(le.classes_)"
   ]
  },
  {
   "cell_type": "code",
   "execution_count": 88,
   "id": "64e31dae",
   "metadata": {},
   "outputs": [],
   "source": [
    "df['CONOCE_SERVN'] = le.transform(df['CONOCE_SERV'])"
   ]
  },
  {
   "cell_type": "code",
   "execution_count": 89,
   "id": "08509a65",
   "metadata": {},
   "outputs": [
    {
     "name": "stdout",
     "output_type": "stream",
     "text": [
      "['-' 'Campaña' 'Facebook' 'Gmaps' 'Instagram' 'Página web' 'Recomendación']\n"
     ]
    }
   ],
   "source": [
    "le = LabelEncoder()\n",
    "le.fit(df['MEDIO_C'])\n",
    "\n",
    "# Muestra el mapeo (clases)\n",
    "print(le.classes_)"
   ]
  },
  {
   "cell_type": "code",
   "execution_count": 90,
   "id": "43c6f8c4",
   "metadata": {},
   "outputs": [],
   "source": [
    "df['MEDIO_CN'] = le.transform(df['MEDIO_C'])"
   ]
  },
  {
   "cell_type": "code",
   "execution_count": 91,
   "id": "9fd4ef7a",
   "metadata": {},
   "outputs": [
    {
     "name": "stdout",
     "output_type": "stream",
     "text": [
      "['-' 'No' 'Sí']\n"
     ]
    }
   ],
   "source": [
    "le = LabelEncoder()\n",
    "le.fit(df['DOCUMENTOS'])\n",
    "\n",
    "# Muestra el mapeo (clases)\n",
    "print(le.classes_)"
   ]
  },
  {
   "cell_type": "code",
   "execution_count": 92,
   "id": "fb952223",
   "metadata": {},
   "outputs": [],
   "source": [
    "df['DOCUMENTOSN'] = le.transform(df['DOCUMENTOS'])"
   ]
  },
  {
   "cell_type": "code",
   "execution_count": 93,
   "id": "97560851",
   "metadata": {},
   "outputs": [
    {
     "name": "stdout",
     "output_type": "stream",
     "text": [
      "['-' 'No' 'Sí']\n"
     ]
    }
   ],
   "source": [
    "le = LabelEncoder()\n",
    "le.fit(df['PP'])\n",
    "\n",
    "# Muestra el mapeo (clases)\n",
    "print(le.classes_)"
   ]
  },
  {
   "cell_type": "code",
   "execution_count": 94,
   "id": "de8ab7f3",
   "metadata": {},
   "outputs": [],
   "source": [
    "df['PPN'] = le.transform(df['PP'])"
   ]
  },
  {
   "cell_type": "code",
   "execution_count": 95,
   "id": "ac8b9547",
   "metadata": {},
   "outputs": [
    {
     "name": "stdout",
     "output_type": "stream",
     "text": [
      "['-' '2023-11-21 00:00:00' '2023-11-23 00:00:00' '2023-12-20 00:00:00'\n",
      " '2024-01-10 00:00:00' '2024-01-30 00:00:00' '2024-02-10 00:00:00'\n",
      " '2024-03-20 00:00:00' '2024-04-08 00:00:00' '2024-04-11 00:00:00'\n",
      " '2024-04-19 00:00:00' '2024-04-23 00:00:00' '2024-06-24 00:00:00'\n",
      " '2024-08-26 00:00:00' '2024-09-02 00:00:00' '2024-09-09 00:00:00'\n",
      " '2024-09-30 00:00:00' '2024-10-03 00:00:00' '2024-10-10 00:00:00'\n",
      " '2024-10-15 00:00:00' '2024-11-03 00:00:00' '2024-11-21 00:00:00'\n",
      " '2025-06-26 00:00:00']\n"
     ]
    }
   ],
   "source": [
    "import pandas as pd\n",
    "from sklearn.preprocessing import LabelEncoder\n",
    "\n",
    "# 1. Convert the 'FP' column to string\n",
    "df['FP'] = df['FP'].astype(str)\n",
    "\n",
    "# 2. Re-run the LabelEncoder fit\n",
    "le = LabelEncoder()\n",
    "le.fit(df['FP'])\n",
    "\n",
    "# Muestra el mapeo (clases)\n",
    "print(le.classes_)"
   ]
  },
  {
   "cell_type": "code",
   "execution_count": 96,
   "id": "19e507a0",
   "metadata": {},
   "outputs": [],
   "source": [
    "df['FPN'] = le.transform(df['FP'])"
   ]
  },
  {
   "cell_type": "code",
   "execution_count": 97,
   "id": "6e781661",
   "metadata": {},
   "outputs": [
    {
     "name": "stdout",
     "output_type": "stream",
     "text": [
      "['Contratado' 'Olvidar' 'Seguimiento' 'olvidar']\n"
     ]
    }
   ],
   "source": [
    "le = LabelEncoder()\n",
    "le.fit(df['ESTATUS'])\n",
    "\n",
    "# Muestra el mapeo (clases)\n",
    "print(le.classes_)"
   ]
  },
  {
   "cell_type": "code",
   "execution_count": 98,
   "id": "dcaca9e1",
   "metadata": {},
   "outputs": [],
   "source": [
    "df['ESTATUSN'] = le.transform(df['ESTATUS'])"
   ]
  },
  {
   "cell_type": "code",
   "execution_count": 99,
   "id": "992c6c5d",
   "metadata": {},
   "outputs": [
    {
     "data": {
      "text/html": [
       "<div>\n",
       "<style scoped>\n",
       "    .dataframe tbody tr th:only-of-type {\n",
       "        vertical-align: middle;\n",
       "    }\n",
       "\n",
       "    .dataframe tbody tr th {\n",
       "        vertical-align: top;\n",
       "    }\n",
       "\n",
       "    .dataframe thead th {\n",
       "        text-align: right;\n",
       "    }\n",
       "</style>\n",
       "<table border=\"1\" class=\"dataframe\">\n",
       "  <thead>\n",
       "    <tr style=\"text-align: right;\">\n",
       "      <th></th>\n",
       "      <th>PRIMER CONTACTO</th>\n",
       "      <th>ULTIMO CONTACTO</th>\n",
       "      <th>Sexo</th>\n",
       "      <th>Pareja</th>\n",
       "      <th>PROCEDENCIA</th>\n",
       "      <th>COMUNICACIÓN</th>\n",
       "      <th>UB_P</th>\n",
       "      <th>AREA (M2)</th>\n",
       "      <th>TIPO_P</th>\n",
       "      <th>USO_P</th>\n",
       "      <th>...</th>\n",
       "      <th>TIPO_PN</th>\n",
       "      <th>USO_PN</th>\n",
       "      <th>CITA_O_VN</th>\n",
       "      <th>FECHAN</th>\n",
       "      <th>CONOCE_SERVN</th>\n",
       "      <th>MEDIO_CN</th>\n",
       "      <th>DOCUMENTOSN</th>\n",
       "      <th>PPN</th>\n",
       "      <th>FPN</th>\n",
       "      <th>ESTATUSN</th>\n",
       "    </tr>\n",
       "  </thead>\n",
       "  <tbody>\n",
       "    <tr>\n",
       "      <th>211</th>\n",
       "      <td>2024-09-09</td>\n",
       "      <td>2024-09-09</td>\n",
       "      <td>Hombre</td>\n",
       "      <td>-</td>\n",
       "      <td>-</td>\n",
       "      <td>Whatsapp</td>\n",
       "      <td>Centro (Colonia Esperanza)</td>\n",
       "      <td>210.000000</td>\n",
       "      <td>Remodelación</td>\n",
       "      <td>Residencia</td>\n",
       "      <td>...</td>\n",
       "      <td>4</td>\n",
       "      <td>23</td>\n",
       "      <td>2</td>\n",
       "      <td>62</td>\n",
       "      <td>0</td>\n",
       "      <td>5</td>\n",
       "      <td>2</td>\n",
       "      <td>2</td>\n",
       "      <td>14</td>\n",
       "      <td>1</td>\n",
       "    </tr>\n",
       "    <tr>\n",
       "      <th>141</th>\n",
       "      <td>2024-02-08</td>\n",
       "      <td>NaT</td>\n",
       "      <td>Hombre</td>\n",
       "      <td>-</td>\n",
       "      <td>Mérida</td>\n",
       "      <td>Whatsapp</td>\n",
       "      <td>Miguel Hidalgo</td>\n",
       "      <td>333.000000</td>\n",
       "      <td>Remodelación</td>\n",
       "      <td>Residencia</td>\n",
       "      <td>...</td>\n",
       "      <td>4</td>\n",
       "      <td>23</td>\n",
       "      <td>2</td>\n",
       "      <td>22</td>\n",
       "      <td>2</td>\n",
       "      <td>3</td>\n",
       "      <td>2</td>\n",
       "      <td>2</td>\n",
       "      <td>6</td>\n",
       "      <td>0</td>\n",
       "    </tr>\n",
       "    <tr>\n",
       "      <th>115</th>\n",
       "      <td>2023-10-20</td>\n",
       "      <td>2023-10-20</td>\n",
       "      <td>Hombre</td>\n",
       "      <td>-</td>\n",
       "      <td>New York</td>\n",
       "      <td>Whatsapp</td>\n",
       "      <td>Conkal</td>\n",
       "      <td>200.000000</td>\n",
       "      <td>Nueva</td>\n",
       "      <td>Residencia</td>\n",
       "      <td>...</td>\n",
       "      <td>3</td>\n",
       "      <td>23</td>\n",
       "      <td>1</td>\n",
       "      <td>0</td>\n",
       "      <td>1</td>\n",
       "      <td>0</td>\n",
       "      <td>1</td>\n",
       "      <td>1</td>\n",
       "      <td>0</td>\n",
       "      <td>1</td>\n",
       "    </tr>\n",
       "    <tr>\n",
       "      <th>77</th>\n",
       "      <td>2023-06-04</td>\n",
       "      <td>NaT</td>\n",
       "      <td>Mujer</td>\n",
       "      <td>Sí</td>\n",
       "      <td>Mérida</td>\n",
       "      <td>-</td>\n",
       "      <td>García Ginerés</td>\n",
       "      <td>1971.911207</td>\n",
       "      <td>Remodelación</td>\n",
       "      <td>Residencia</td>\n",
       "      <td>...</td>\n",
       "      <td>4</td>\n",
       "      <td>23</td>\n",
       "      <td>2</td>\n",
       "      <td>0</td>\n",
       "      <td>2</td>\n",
       "      <td>6</td>\n",
       "      <td>0</td>\n",
       "      <td>2</td>\n",
       "      <td>0</td>\n",
       "      <td>0</td>\n",
       "    </tr>\n",
       "    <tr>\n",
       "      <th>181</th>\n",
       "      <td>2024-06-25</td>\n",
       "      <td>2024-06-28</td>\n",
       "      <td>Hombre</td>\n",
       "      <td>-</td>\n",
       "      <td>México</td>\n",
       "      <td>Whatsapp</td>\n",
       "      <td>Ciudad Maderas</td>\n",
       "      <td>165.220000</td>\n",
       "      <td>Nueva</td>\n",
       "      <td>Residencia</td>\n",
       "      <td>...</td>\n",
       "      <td>3</td>\n",
       "      <td>23</td>\n",
       "      <td>0</td>\n",
       "      <td>0</td>\n",
       "      <td>0</td>\n",
       "      <td>0</td>\n",
       "      <td>2</td>\n",
       "      <td>1</td>\n",
       "      <td>0</td>\n",
       "      <td>1</td>\n",
       "    </tr>\n",
       "  </tbody>\n",
       "</table>\n",
       "<p>5 rows × 34 columns</p>\n",
       "</div>"
      ],
      "text/plain": [
       "    PRIMER CONTACTO ULTIMO CONTACTO    Sexo Pareja PROCEDENCIA COMUNICACIÓN  \\\n",
       "211      2024-09-09      2024-09-09  Hombre      -           -     Whatsapp   \n",
       "141      2024-02-08             NaT  Hombre      -      Mérida     Whatsapp   \n",
       "115      2023-10-20      2023-10-20  Hombre      -    New York     Whatsapp   \n",
       "77       2023-06-04             NaT   Mujer     Sí      Mérida            -   \n",
       "181      2024-06-25      2024-06-28  Hombre      -      México     Whatsapp   \n",
       "\n",
       "                           UB_P    AREA (M2)        TIPO_P       USO_P  ...  \\\n",
       "211  Centro (Colonia Esperanza)   210.000000  Remodelación  Residencia  ...   \n",
       "141              Miguel Hidalgo   333.000000  Remodelación  Residencia  ...   \n",
       "115                      Conkal   200.000000         Nueva  Residencia  ...   \n",
       "77               García Ginerés  1971.911207  Remodelación  Residencia  ...   \n",
       "181              Ciudad Maderas   165.220000         Nueva  Residencia  ...   \n",
       "\n",
       "    TIPO_PN USO_PN CITA_O_VN FECHAN CONOCE_SERVN MEDIO_CN DOCUMENTOSN  PPN  \\\n",
       "211       4     23         2     62            0        5           2    2   \n",
       "141       4     23         2     22            2        3           2    2   \n",
       "115       3     23         1      0            1        0           1    1   \n",
       "77        4     23         2      0            2        6           0    2   \n",
       "181       3     23         0      0            0        0           2    1   \n",
       "\n",
       "     FPN  ESTATUSN  \n",
       "211   14         1  \n",
       "141    6         0  \n",
       "115    0         1  \n",
       "77     0         0  \n",
       "181    0         1  \n",
       "\n",
       "[5 rows x 34 columns]"
      ]
     },
     "execution_count": 99,
     "metadata": {},
     "output_type": "execute_result"
    }
   ],
   "source": [
    "from sklearn.model_selection import train_test_split\n",
    "\n",
    "# Dividimos el conjunto de datos en muestras de train y test\n",
    "X = df.drop(\"ESTATUS\", axis = 1)\n",
    "y = df[\"ESTATUS\"]\n",
    "\n",
    "X_train, X_test, y_train, y_test = train_test_split(X, y, test_size = 0.2, random_state = 42)\n",
    "\n",
    "X_train.head()\n"
   ]
  },
  {
   "cell_type": "code",
   "execution_count": 100,
   "id": "b884d9d6",
   "metadata": {},
   "outputs": [
    {
     "data": {
      "text/plain": [
       "Index(['PRIMER CONTACTO', 'ULTIMO CONTACTO', 'Sexo', 'Pareja', 'PROCEDENCIA',\n",
       "       'COMUNICACIÓN', 'UB_P', 'AREA (M2)', 'TIPO_P', 'USO_P', 'CITA_O_V',\n",
       "       'FECHA', 'CONOCE_SERV', 'MEDIO_C', 'DOCUMENTOS', 'PP', 'FP', 'ESTATUS',\n",
       "       'Sexon', 'PRIMER CONTACTON', 'ULTIMO CONTACTON', 'ParejaN',\n",
       "       'PROCEDENCIAN', 'COMUNICACIÓNN', 'UB_PN', 'TIPO_PN', 'USO_PN',\n",
       "       'CITA_O_VN', 'FECHAN', 'CONOCE_SERVN', 'MEDIO_CN', 'DOCUMENTOSN', 'PPN',\n",
       "       'FPN', 'ESTATUSN'],\n",
       "      dtype='object')"
      ]
     },
     "execution_count": 100,
     "metadata": {},
     "output_type": "execute_result"
    }
   ],
   "source": [
    "df.columns"
   ]
  },
  {
   "cell_type": "code",
   "execution_count": 101,
   "id": "ae2df004",
   "metadata": {},
   "outputs": [],
   "source": [
    "# 1. Define la lista de columnas a eliminar\n",
    "eliminar = ['NOMBRE','TELEFONO 1','TELEFONO 2','CORREO 1','CORREO 2','NOTAS', 'Unnamed: 24', 'Unnamed: 25', 'Unnamed: 26']\n",
    "\n",
    "\n",
    "df.drop(columns=eliminar, inplace=True, errors='ignore')"
   ]
  },
  {
   "cell_type": "code",
   "execution_count": 102,
   "id": "516b38ba",
   "metadata": {},
   "outputs": [],
   "source": [
    "df2=['PRIMER CONTACTON', 'ULTIMO CONTACTON', 'ParejaN', 'PROCEDENCIAN',\n",
    "       'COMUNICACIÓNN', 'UB_PN', 'TIPO_PN', 'USO_PN', 'CITA_O_VN', 'FECHAN',\n",
    "       'CONOCE_SERVN', 'MEDIO_CN', 'DOCUMENTOSN', 'PPN', 'FPN', 'ESTATUSN']"
   ]
  },
  {
   "cell_type": "code",
   "execution_count": 107,
   "id": "0e2881f8",
   "metadata": {},
   "outputs": [
    {
     "name": "stdout",
     "output_type": "stream",
     "text": [
      "DataFrame con filas que tenían ceros eliminadas.\n"
     ]
    }
   ],
   "source": [
    "import pandas as pd\n",
    "import numpy as np\n",
    "\n",
    "\n",
    "\n",
    "# 1. Identificar solo las columnas numéricas\n",
    "# Esto evita errores si tienes columnas de texto (strings) o fechas.\n",
    "columnas_numericas = df.select_dtypes(include=np.number).columns\n",
    "\n",
    "# 2. Crear una máscara (una Serie True/False)\n",
    "#    - (df[columnas_numericas] == 0): Marca con True todos los ceros.\n",
    "#    - .any(axis=1): Verifica si hay *algún* True (cero) en CADA FILA.\n",
    "df = (df[columnas_numericas] == 0).any(axis=1)\n",
    "\n",
    "# 3. Filtrar el DataFrame\n",
    "#    - El operador ~ (tilde) invierte la máscara.\n",
    "#    - Mantiene las filas que son FALSO para la máscara (es decir, las que NO tienen ceros).\n",
    "df_sin_ceros = df[~df]\n",
    "\n",
    "# Opcional: Si quieres aplicar el cambio directamente al DataFrame original:\n",
    "# df = df[~mascara_con_ceros].copy()\n",
    "\n",
    "print(\"DataFrame con filas que tenían ceros eliminadas.\")"
   ]
  },
  {
   "cell_type": "code",
   "execution_count": null,
   "id": "436df4c4",
   "metadata": {},
   "outputs": [
    {
     "ename": "AttributeError",
     "evalue": "'Series' object has no attribute 'select_dtypes'",
     "output_type": "error",
     "traceback": [
      "\u001b[1;31m---------------------------------------------------------------------------\u001b[0m",
      "\u001b[1;31mAttributeError\u001b[0m                            Traceback (most recent call last)",
      "\u001b[1;32m~\\AppData\\Local\\Temp\\ipykernel_2352\\2503857627.py\u001b[0m in \u001b[0;36m?\u001b[1;34m()\u001b[0m\n\u001b[0;32m      1\u001b[0m \u001b[0mit\u001b[0m\u001b[1;33m,\u001b[0m \u001b[0maxis\u001b[0m\u001b[1;33m=\u001b[0m\u001b[0mplt\u001b[0m\u001b[1;33m.\u001b[0m\u001b[0msubplots\u001b[0m\u001b[1;33m(\u001b[0m\u001b[0mfigsize\u001b[0m\u001b[1;33m=\u001b[0m\u001b[1;33m(\u001b[0m\u001b[1;36m10\u001b[0m\u001b[1;33m,\u001b[0m\u001b[1;36m7\u001b[0m\u001b[1;33m)\u001b[0m\u001b[1;33m)\u001b[0m\u001b[1;33m\u001b[0m\u001b[1;33m\u001b[0m\u001b[0m\n\u001b[1;32m----> 2\u001b[1;33m \u001b[0msns\u001b[0m\u001b[1;33m.\u001b[0m\u001b[0mheatmap\u001b[0m\u001b[1;33m(\u001b[0m\u001b[0mdf\u001b[0m\u001b[1;33m.\u001b[0m\u001b[0mselect_dtypes\u001b[0m\u001b[1;33m(\u001b[0m\u001b[0minclude\u001b[0m\u001b[1;33m=\u001b[0m\u001b[1;33m[\u001b[0m\u001b[1;34m'number'\u001b[0m\u001b[1;33m]\u001b[0m\u001b[1;33m)\u001b[0m\u001b[1;33m.\u001b[0m\u001b[0mcorr\u001b[0m\u001b[1;33m(\u001b[0m\u001b[1;33m)\u001b[0m\u001b[1;33m,\u001b[0m \u001b[0mannot\u001b[0m\u001b[1;33m=\u001b[0m\u001b[1;32mTrue\u001b[0m\u001b[1;33m,\u001b[0m \u001b[0mfmt\u001b[0m\u001b[1;33m=\u001b[0m\u001b[1;34m\".2f\"\u001b[0m\u001b[1;33m)\u001b[0m\u001b[1;33m\u001b[0m\u001b[1;33m\u001b[0m\u001b[0m\n\u001b[0m\u001b[0;32m      3\u001b[0m \u001b[0mplt\u001b[0m\u001b[1;33m.\u001b[0m\u001b[0mtight_layout\u001b[0m\u001b[1;33m(\u001b[0m\u001b[1;33m)\u001b[0m\u001b[1;33m\u001b[0m\u001b[1;33m\u001b[0m\u001b[0m\n\u001b[0;32m      4\u001b[0m \u001b[0mplt\u001b[0m\u001b[1;33m.\u001b[0m\u001b[0mshow\u001b[0m\u001b[1;33m(\u001b[0m\u001b[1;33m)\u001b[0m\u001b[1;33m\u001b[0m\u001b[1;33m\u001b[0m\u001b[0m\n",
      "\u001b[1;32mc:\\Users\\valen\\anaconda3\\Lib\\site-packages\\pandas\\core\\generic.py\u001b[0m in \u001b[0;36m?\u001b[1;34m(self, name)\u001b[0m\n\u001b[0;32m   6295\u001b[0m             \u001b[1;32mand\u001b[0m \u001b[0mname\u001b[0m \u001b[1;32mnot\u001b[0m \u001b[1;32min\u001b[0m \u001b[0mself\u001b[0m\u001b[1;33m.\u001b[0m\u001b[0m_accessors\u001b[0m\u001b[1;33m\u001b[0m\u001b[1;33m\u001b[0m\u001b[0m\n\u001b[0;32m   6296\u001b[0m             \u001b[1;32mand\u001b[0m \u001b[0mself\u001b[0m\u001b[1;33m.\u001b[0m\u001b[0m_info_axis\u001b[0m\u001b[1;33m.\u001b[0m\u001b[0m_can_hold_identifiers_and_holds_name\u001b[0m\u001b[1;33m(\u001b[0m\u001b[0mname\u001b[0m\u001b[1;33m)\u001b[0m\u001b[1;33m\u001b[0m\u001b[1;33m\u001b[0m\u001b[0m\n\u001b[0;32m   6297\u001b[0m         \u001b[1;33m)\u001b[0m\u001b[1;33m:\u001b[0m\u001b[1;33m\u001b[0m\u001b[1;33m\u001b[0m\u001b[0m\n\u001b[0;32m   6298\u001b[0m             \u001b[1;32mreturn\u001b[0m \u001b[0mself\u001b[0m\u001b[1;33m[\u001b[0m\u001b[0mname\u001b[0m\u001b[1;33m]\u001b[0m\u001b[1;33m\u001b[0m\u001b[1;33m\u001b[0m\u001b[0m\n\u001b[1;32m-> 6299\u001b[1;33m         \u001b[1;32mreturn\u001b[0m \u001b[0mobject\u001b[0m\u001b[1;33m.\u001b[0m\u001b[0m__getattribute__\u001b[0m\u001b[1;33m(\u001b[0m\u001b[0mself\u001b[0m\u001b[1;33m,\u001b[0m \u001b[0mname\u001b[0m\u001b[1;33m)\u001b[0m\u001b[1;33m\u001b[0m\u001b[1;33m\u001b[0m\u001b[0m\n\u001b[0m",
      "\u001b[1;31mAttributeError\u001b[0m: 'Series' object has no attribute 'select_dtypes'"
     ]
    },
    {
     "data": {
      "image/png": "[encoded data removed]",
      "text/plain": [
       "<Figure size 1000x700 with 1 Axes>"
      ]
     },
     "metadata": {},
     "output_type": "display_data"
    }
   ],
   "source": [
    "it, axis=plt.subplots(figsize=(10,7))\n",
    "sns.heatmap(df.select_dtypes(include=['number']).corr(), annot=True, fmt=\".2f\")\n",
    "plt.tight_layout()\n",
    "plt.show()\n"
   ]
  },
  {
   "cell_type": "code",
   "execution_count": null,
   "id": "255e0e00",
   "metadata": {},
   "outputs": [
    {
     "ename": "TypeError",
     "evalue": "float() argument must be a string or a real number, not 'Timestamp'",
     "output_type": "error",
     "traceback": [
      "\u001b[1;31m---------------------------------------------------------------------------\u001b[0m",
      "\u001b[1;31mTypeError\u001b[0m                                 Traceback (most recent call last)",
      "\u001b[1;32m~\\AppData\\Local\\Temp\\ipykernel_2352\\1722929986.py\u001b[0m in \u001b[0;36m?\u001b[1;34m()\u001b[0m\n\u001b[0;32m      1\u001b[0m \u001b[1;32mfrom\u001b[0m \u001b[0msklearn\u001b[0m\u001b[1;33m.\u001b[0m\u001b[0mtree\u001b[0m \u001b[1;32mimport\u001b[0m \u001b[0mDecisionTreeClassifier\u001b[0m\u001b[1;33m\u001b[0m\u001b[1;33m\u001b[0m\u001b[0m\n\u001b[0;32m      2\u001b[0m \u001b[1;33m\u001b[0m\u001b[0m\n\u001b[0;32m      3\u001b[0m \u001b[0mmodel\u001b[0m \u001b[1;33m=\u001b[0m \u001b[0mDecisionTreeClassifier\u001b[0m\u001b[1;33m(\u001b[0m\u001b[0mrandom_state\u001b[0m \u001b[1;33m=\u001b[0m \u001b[1;36m42\u001b[0m\u001b[1;33m)\u001b[0m\u001b[1;33m\u001b[0m\u001b[1;33m\u001b[0m\u001b[0m\n\u001b[1;32m----> 4\u001b[1;33m \u001b[0mmodel\u001b[0m\u001b[1;33m.\u001b[0m\u001b[0mfit\u001b[0m\u001b[1;33m(\u001b[0m\u001b[0mX_train\u001b[0m\u001b[1;33m,\u001b[0m \u001b[0my_train\u001b[0m\u001b[1;33m)\u001b[0m\u001b[1;33m\u001b[0m\u001b[1;33m\u001b[0m\u001b[0m\n\u001b[0m",
      "\u001b[1;32mc:\\Users\\valen\\anaconda3\\Lib\\site-packages\\sklearn\\base.py\u001b[0m in \u001b[0;36m?\u001b[1;34m(estimator, *args, **kwargs)\u001b[0m\n\u001b[0;32m   1469\u001b[0m                 skip_parameter_validation=(\n\u001b[0;32m   1470\u001b[0m                     \u001b[0mprefer_skip_nested_validation\u001b[0m \u001b[1;32mor\u001b[0m \u001b[0mglobal_skip_validation\u001b[0m\u001b[1;33m\u001b[0m\u001b[1;33m\u001b[0m\u001b[0m\n\u001b[0;32m   1471\u001b[0m                 \u001b[1;33m)\u001b[0m\u001b[1;33m\u001b[0m\u001b[1;33m\u001b[0m\u001b[0m\n\u001b[0;32m   1472\u001b[0m             \u001b[1;33m)\u001b[0m\u001b[1;33m:\u001b[0m\u001b[1;33m\u001b[0m\u001b[1;33m\u001b[0m\u001b[0m\n\u001b[1;32m-> 1473\u001b[1;33m                 \u001b[1;32mreturn\u001b[0m \u001b[0mfit_method\u001b[0m\u001b[1;33m(\u001b[0m\u001b[0mestimator\u001b[0m\u001b[1;33m,\u001b[0m \u001b[1;33m*\u001b[0m\u001b[0margs\u001b[0m\u001b[1;33m,\u001b[0m \u001b[1;33m**\u001b[0m\u001b[0mkwargs\u001b[0m\u001b[1;33m)\u001b[0m\u001b[1;33m\u001b[0m\u001b[1;33m\u001b[0m\u001b[0m\n\u001b[0m",
      "\u001b[1;32mc:\\Users\\valen\\anaconda3\\Lib\\site-packages\\sklearn\\tree\\_classes.py\u001b[0m in \u001b[0;36m?\u001b[1;34m(self, X, y, sample_weight, check_input)\u001b[0m\n\u001b[0;32m   1005\u001b[0m         \u001b[0mself\u001b[0m \u001b[1;33m:\u001b[0m \u001b[0mDecisionTreeClassifier\u001b[0m\u001b[1;33m\u001b[0m\u001b[1;33m\u001b[0m\u001b[0m\n\u001b[0;32m   1006\u001b[0m             \u001b[0mFitted\u001b[0m \u001b[0mestimator\u001b[0m\u001b[1;33m.\u001b[0m\u001b[1;33m\u001b[0m\u001b[1;33m\u001b[0m\u001b[0m\n\u001b[0;32m   1007\u001b[0m         \"\"\"\n\u001b[0;32m   1008\u001b[0m \u001b[1;33m\u001b[0m\u001b[0m\n\u001b[1;32m-> 1009\u001b[1;33m         super()._fit(\n\u001b[0m\u001b[0;32m   1010\u001b[0m             \u001b[0mX\u001b[0m\u001b[1;33m,\u001b[0m\u001b[1;33m\u001b[0m\u001b[1;33m\u001b[0m\u001b[0m\n\u001b[0;32m   1011\u001b[0m             \u001b[0my\u001b[0m\u001b[1;33m,\u001b[0m\u001b[1;33m\u001b[0m\u001b[1;33m\u001b[0m\u001b[0m\n\u001b[0;32m   1012\u001b[0m             \u001b[0msample_weight\u001b[0m\u001b[1;33m=\u001b[0m\u001b[0msample_weight\u001b[0m\u001b[1;33m,\u001b[0m\u001b[1;33m\u001b[0m\u001b[1;33m\u001b[0m\u001b[0m\n",
      "\u001b[1;32mc:\\Users\\valen\\anaconda3\\Lib\\site-packages\\sklearn\\tree\\_classes.py\u001b[0m in \u001b[0;36m?\u001b[1;34m(self, X, y, sample_weight, check_input, missing_values_in_feature_mask)\u001b[0m\n\u001b[0;32m    248\u001b[0m             check_X_params = dict(\n\u001b[0;32m    249\u001b[0m                 \u001b[0mdtype\u001b[0m\u001b[1;33m=\u001b[0m\u001b[0mDTYPE\u001b[0m\u001b[1;33m,\u001b[0m \u001b[0maccept_sparse\u001b[0m\u001b[1;33m=\u001b[0m\u001b[1;34m\"csc\"\u001b[0m\u001b[1;33m,\u001b[0m \u001b[0mforce_all_finite\u001b[0m\u001b[1;33m=\u001b[0m\u001b[1;32mFalse\u001b[0m\u001b[1;33m\u001b[0m\u001b[1;33m\u001b[0m\u001b[0m\n\u001b[0;32m    250\u001b[0m             \u001b[1;33m)\u001b[0m\u001b[1;33m\u001b[0m\u001b[1;33m\u001b[0m\u001b[0m\n\u001b[0;32m    251\u001b[0m             \u001b[0mcheck_y_params\u001b[0m \u001b[1;33m=\u001b[0m \u001b[0mdict\u001b[0m\u001b[1;33m(\u001b[0m\u001b[0mensure_2d\u001b[0m\u001b[1;33m=\u001b[0m\u001b[1;32mFalse\u001b[0m\u001b[1;33m,\u001b[0m \u001b[0mdtype\u001b[0m\u001b[1;33m=\u001b[0m\u001b[1;32mNone\u001b[0m\u001b[1;33m)\u001b[0m\u001b[1;33m\u001b[0m\u001b[1;33m\u001b[0m\u001b[0m\n\u001b[1;32m--> 252\u001b[1;33m             X, y = self._validate_data(\n\u001b[0m\u001b[0;32m    253\u001b[0m                 \u001b[0mX\u001b[0m\u001b[1;33m,\u001b[0m \u001b[0my\u001b[0m\u001b[1;33m,\u001b[0m \u001b[0mvalidate_separately\u001b[0m\u001b[1;33m=\u001b[0m\u001b[1;33m(\u001b[0m\u001b[0mcheck_X_params\u001b[0m\u001b[1;33m,\u001b[0m \u001b[0mcheck_y_params\u001b[0m\u001b[1;33m)\u001b[0m\u001b[1;33m\u001b[0m\u001b[1;33m\u001b[0m\u001b[0m\n\u001b[0;32m    254\u001b[0m             \u001b[1;33m)\u001b[0m\u001b[1;33m\u001b[0m\u001b[1;33m\u001b[0m\u001b[0m\n\u001b[0;32m    255\u001b[0m \u001b[1;33m\u001b[0m\u001b[0m\n",
      "\u001b[1;32mc:\\Users\\valen\\anaconda3\\Lib\\site-packages\\sklearn\\base.py\u001b[0m in \u001b[0;36m?\u001b[1;34m(self, X, y, reset, validate_separately, cast_to_ndarray, **check_params)\u001b[0m\n\u001b[0;32m    641\u001b[0m                 \u001b[1;31m# :(\u001b[0m\u001b[1;33m\u001b[0m\u001b[1;33m\u001b[0m\u001b[0m\n\u001b[0;32m    642\u001b[0m                 \u001b[0mcheck_X_params\u001b[0m\u001b[1;33m,\u001b[0m \u001b[0mcheck_y_params\u001b[0m \u001b[1;33m=\u001b[0m \u001b[0mvalidate_separately\u001b[0m\u001b[1;33m\u001b[0m\u001b[1;33m\u001b[0m\u001b[0m\n\u001b[0;32m    643\u001b[0m                 \u001b[1;32mif\u001b[0m \u001b[1;34m\"estimator\"\u001b[0m \u001b[1;32mnot\u001b[0m \u001b[1;32min\u001b[0m \u001b[0mcheck_X_params\u001b[0m\u001b[1;33m:\u001b[0m\u001b[1;33m\u001b[0m\u001b[1;33m\u001b[0m\u001b[0m\n\u001b[0;32m    644\u001b[0m                     \u001b[0mcheck_X_params\u001b[0m \u001b[1;33m=\u001b[0m \u001b[1;33m{\u001b[0m\u001b[1;33m**\u001b[0m\u001b[0mdefault_check_params\u001b[0m\u001b[1;33m,\u001b[0m \u001b[1;33m**\u001b[0m\u001b[0mcheck_X_params\u001b[0m\u001b[1;33m}\u001b[0m\u001b[1;33m\u001b[0m\u001b[1;33m\u001b[0m\u001b[0m\n\u001b[1;32m--> 645\u001b[1;33m                 \u001b[0mX\u001b[0m \u001b[1;33m=\u001b[0m \u001b[0mcheck_array\u001b[0m\u001b[1;33m(\u001b[0m\u001b[0mX\u001b[0m\u001b[1;33m,\u001b[0m \u001b[0minput_name\u001b[0m\u001b[1;33m=\u001b[0m\u001b[1;34m\"X\"\u001b[0m\u001b[1;33m,\u001b[0m \u001b[1;33m**\u001b[0m\u001b[0mcheck_X_params\u001b[0m\u001b[1;33m)\u001b[0m\u001b[1;33m\u001b[0m\u001b[1;33m\u001b[0m\u001b[0m\n\u001b[0m\u001b[0;32m    646\u001b[0m                 \u001b[1;32mif\u001b[0m \u001b[1;34m\"estimator\"\u001b[0m \u001b[1;32mnot\u001b[0m \u001b[1;32min\u001b[0m \u001b[0mcheck_y_params\u001b[0m\u001b[1;33m:\u001b[0m\u001b[1;33m\u001b[0m\u001b[1;33m\u001b[0m\u001b[0m\n\u001b[0;32m    647\u001b[0m                     \u001b[0mcheck_y_params\u001b[0m \u001b[1;33m=\u001b[0m \u001b[1;33m{\u001b[0m\u001b[1;33m**\u001b[0m\u001b[0mdefault_check_params\u001b[0m\u001b[1;33m,\u001b[0m \u001b[1;33m**\u001b[0m\u001b[0mcheck_y_params\u001b[0m\u001b[1;33m}\u001b[0m\u001b[1;33m\u001b[0m\u001b[1;33m\u001b[0m\u001b[0m\n\u001b[0;32m    648\u001b[0m                 \u001b[0my\u001b[0m \u001b[1;33m=\u001b[0m \u001b[0mcheck_array\u001b[0m\u001b[1;33m(\u001b[0m\u001b[0my\u001b[0m\u001b[1;33m,\u001b[0m \u001b[0minput_name\u001b[0m\u001b[1;33m=\u001b[0m\u001b[1;34m\"y\"\u001b[0m\u001b[1;33m,\u001b[0m \u001b[1;33m**\u001b[0m\u001b[0mcheck_y_params\u001b[0m\u001b[1;33m)\u001b[0m\u001b[1;33m\u001b[0m\u001b[1;33m\u001b[0m\u001b[0m\n",
      "\u001b[1;32mc:\\Users\\valen\\anaconda3\\Lib\\site-packages\\sklearn\\utils\\validation.py\u001b[0m in \u001b[0;36m?\u001b[1;34m(array, accept_sparse, accept_large_sparse, dtype, order, copy, force_writeable, force_all_finite, ensure_2d, allow_nd, ensure_min_samples, ensure_min_features, estimator, input_name)\u001b[0m\n\u001b[0;32m   1009\u001b[0m                         \u001b[1;33m)\u001b[0m\u001b[1;33m\u001b[0m\u001b[1;33m\u001b[0m\u001b[0m\n\u001b[0;32m   1010\u001b[0m                     \u001b[0marray\u001b[0m \u001b[1;33m=\u001b[0m \u001b[0mxp\u001b[0m\u001b[1;33m.\u001b[0m\u001b[0mastype\u001b[0m\u001b[1;33m(\u001b[0m\u001b[0marray\u001b[0m\u001b[1;33m,\u001b[0m \u001b[0mdtype\u001b[0m\u001b[1;33m,\u001b[0m \u001b[0mcopy\u001b[0m\u001b[1;33m=\u001b[0m\u001b[1;32mFalse\u001b[0m\u001b[1;33m)\u001b[0m\u001b[1;33m\u001b[0m\u001b[1;33m\u001b[0m\u001b[0m\n\u001b[0;32m   1011\u001b[0m                 \u001b[1;32melse\u001b[0m\u001b[1;33m:\u001b[0m\u001b[1;33m\u001b[0m\u001b[1;33m\u001b[0m\u001b[0m\n\u001b[0;32m   1012\u001b[0m                     \u001b[0marray\u001b[0m \u001b[1;33m=\u001b[0m \u001b[0m_asarray_with_order\u001b[0m\u001b[1;33m(\u001b[0m\u001b[0marray\u001b[0m\u001b[1;33m,\u001b[0m \u001b[0morder\u001b[0m\u001b[1;33m=\u001b[0m\u001b[0morder\u001b[0m\u001b[1;33m,\u001b[0m \u001b[0mdtype\u001b[0m\u001b[1;33m=\u001b[0m\u001b[0mdtype\u001b[0m\u001b[1;33m,\u001b[0m \u001b[0mxp\u001b[0m\u001b[1;33m=\u001b[0m\u001b[0mxp\u001b[0m\u001b[1;33m)\u001b[0m\u001b[1;33m\u001b[0m\u001b[1;33m\u001b[0m\u001b[0m\n\u001b[1;32m-> 1013\u001b[1;33m             \u001b[1;32mexcept\u001b[0m \u001b[0mComplexWarning\u001b[0m \u001b[1;32mas\u001b[0m \u001b[0mcomplex_warning\u001b[0m\u001b[1;33m:\u001b[0m\u001b[1;33m\u001b[0m\u001b[1;33m\u001b[0m\u001b[0m\n\u001b[0m\u001b[0;32m   1014\u001b[0m                 raise ValueError(\n\u001b[0;32m   1015\u001b[0m                     \u001b[1;34m\"Complex data not supported\\n{}\\n\"\u001b[0m\u001b[1;33m.\u001b[0m\u001b[0mformat\u001b[0m\u001b[1;33m(\u001b[0m\u001b[0marray\u001b[0m\u001b[1;33m)\u001b[0m\u001b[1;33m\u001b[0m\u001b[1;33m\u001b[0m\u001b[0m\n\u001b[0;32m   1016\u001b[0m                 \u001b[1;33m)\u001b[0m \u001b[1;32mfrom\u001b[0m \u001b[0mcomplex_warning\u001b[0m\u001b[1;33m\u001b[0m\u001b[1;33m\u001b[0m\u001b[0m\n",
      "\u001b[1;32mc:\\Users\\valen\\anaconda3\\Lib\\site-packages\\sklearn\\utils\\_array_api.py\u001b[0m in \u001b[0;36m?\u001b[1;34m(array, dtype, order, copy, xp, device)\u001b[0m\n\u001b[0;32m    747\u001b[0m         \u001b[1;31m# Use NumPy API to support order\u001b[0m\u001b[1;33m\u001b[0m\u001b[1;33m\u001b[0m\u001b[0m\n\u001b[0;32m    748\u001b[0m         \u001b[1;32mif\u001b[0m \u001b[0mcopy\u001b[0m \u001b[1;32mis\u001b[0m \u001b[1;32mTrue\u001b[0m\u001b[1;33m:\u001b[0m\u001b[1;33m\u001b[0m\u001b[1;33m\u001b[0m\u001b[0m\n\u001b[0;32m    749\u001b[0m             \u001b[0marray\u001b[0m \u001b[1;33m=\u001b[0m \u001b[0mnumpy\u001b[0m\u001b[1;33m.\u001b[0m\u001b[0marray\u001b[0m\u001b[1;33m(\u001b[0m\u001b[0marray\u001b[0m\u001b[1;33m,\u001b[0m \u001b[0morder\u001b[0m\u001b[1;33m=\u001b[0m\u001b[0morder\u001b[0m\u001b[1;33m,\u001b[0m \u001b[0mdtype\u001b[0m\u001b[1;33m=\u001b[0m\u001b[0mdtype\u001b[0m\u001b[1;33m)\u001b[0m\u001b[1;33m\u001b[0m\u001b[1;33m\u001b[0m\u001b[0m\n\u001b[0;32m    750\u001b[0m         \u001b[1;32melse\u001b[0m\u001b[1;33m:\u001b[0m\u001b[1;33m\u001b[0m\u001b[1;33m\u001b[0m\u001b[0m\n\u001b[1;32m--> 751\u001b[1;33m             \u001b[0marray\u001b[0m \u001b[1;33m=\u001b[0m \u001b[0mnumpy\u001b[0m\u001b[1;33m.\u001b[0m\u001b[0masarray\u001b[0m\u001b[1;33m(\u001b[0m\u001b[0marray\u001b[0m\u001b[1;33m,\u001b[0m \u001b[0morder\u001b[0m\u001b[1;33m=\u001b[0m\u001b[0morder\u001b[0m\u001b[1;33m,\u001b[0m \u001b[0mdtype\u001b[0m\u001b[1;33m=\u001b[0m\u001b[0mdtype\u001b[0m\u001b[1;33m)\u001b[0m\u001b[1;33m\u001b[0m\u001b[1;33m\u001b[0m\u001b[0m\n\u001b[0m\u001b[0;32m    752\u001b[0m \u001b[1;33m\u001b[0m\u001b[0m\n\u001b[0;32m    753\u001b[0m         \u001b[1;31m# At this point array is a NumPy ndarray. We convert it to an array\u001b[0m\u001b[1;33m\u001b[0m\u001b[1;33m\u001b[0m\u001b[0m\n\u001b[0;32m    754\u001b[0m         \u001b[1;31m# container that is consistent with the input's namespace.\u001b[0m\u001b[1;33m\u001b[0m\u001b[1;33m\u001b[0m\u001b[0m\n",
      "\u001b[1;32mc:\\Users\\valen\\anaconda3\\Lib\\site-packages\\pandas\\core\\generic.py\u001b[0m in \u001b[0;36m?\u001b[1;34m(self, dtype, copy)\u001b[0m\n\u001b[0;32m   2149\u001b[0m     def __array__(\n\u001b[0;32m   2150\u001b[0m         \u001b[0mself\u001b[0m\u001b[1;33m,\u001b[0m \u001b[0mdtype\u001b[0m\u001b[1;33m:\u001b[0m \u001b[0mnpt\u001b[0m\u001b[1;33m.\u001b[0m\u001b[0mDTypeLike\u001b[0m \u001b[1;33m|\u001b[0m \u001b[1;32mNone\u001b[0m \u001b[1;33m=\u001b[0m \u001b[1;32mNone\u001b[0m\u001b[1;33m,\u001b[0m \u001b[0mcopy\u001b[0m\u001b[1;33m:\u001b[0m \u001b[0mbool_t\u001b[0m \u001b[1;33m|\u001b[0m \u001b[1;32mNone\u001b[0m \u001b[1;33m=\u001b[0m \u001b[1;32mNone\u001b[0m\u001b[1;33m\u001b[0m\u001b[1;33m\u001b[0m\u001b[0m\n\u001b[0;32m   2151\u001b[0m     \u001b[1;33m)\u001b[0m \u001b[1;33m->\u001b[0m \u001b[0mnp\u001b[0m\u001b[1;33m.\u001b[0m\u001b[0mndarray\u001b[0m\u001b[1;33m:\u001b[0m\u001b[1;33m\u001b[0m\u001b[1;33m\u001b[0m\u001b[0m\n\u001b[0;32m   2152\u001b[0m         \u001b[0mvalues\u001b[0m \u001b[1;33m=\u001b[0m \u001b[0mself\u001b[0m\u001b[1;33m.\u001b[0m\u001b[0m_values\u001b[0m\u001b[1;33m\u001b[0m\u001b[1;33m\u001b[0m\u001b[0m\n\u001b[1;32m-> 2153\u001b[1;33m         \u001b[0marr\u001b[0m \u001b[1;33m=\u001b[0m \u001b[0mnp\u001b[0m\u001b[1;33m.\u001b[0m\u001b[0masarray\u001b[0m\u001b[1;33m(\u001b[0m\u001b[0mvalues\u001b[0m\u001b[1;33m,\u001b[0m \u001b[0mdtype\u001b[0m\u001b[1;33m=\u001b[0m\u001b[0mdtype\u001b[0m\u001b[1;33m)\u001b[0m\u001b[1;33m\u001b[0m\u001b[1;33m\u001b[0m\u001b[0m\n\u001b[0m\u001b[0;32m   2154\u001b[0m         if (\n\u001b[0;32m   2155\u001b[0m             \u001b[0mastype_is_view\u001b[0m\u001b[1;33m(\u001b[0m\u001b[0mvalues\u001b[0m\u001b[1;33m.\u001b[0m\u001b[0mdtype\u001b[0m\u001b[1;33m,\u001b[0m \u001b[0marr\u001b[0m\u001b[1;33m.\u001b[0m\u001b[0mdtype\u001b[0m\u001b[1;33m)\u001b[0m\u001b[1;33m\u001b[0m\u001b[1;33m\u001b[0m\u001b[0m\n\u001b[0;32m   2156\u001b[0m             \u001b[1;32mand\u001b[0m \u001b[0musing_copy_on_write\u001b[0m\u001b[1;33m(\u001b[0m\u001b[1;33m)\u001b[0m\u001b[1;33m\u001b[0m\u001b[1;33m\u001b[0m\u001b[0m\n",
      "\u001b[1;31mTypeError\u001b[0m: float() argument must be a string or a real number, not 'Timestamp'"
     ]
    }
   ],
   "source": [
    "from sklearn.tree import DecisionTreeClassifier\n",
    "\n",
    "model = DecisionTreeClassifier(random_state = 42)\n",
    "model.fit(X_train, y_train)"
   ]
  },
  {
   "cell_type": "code",
   "execution_count": null,
   "id": "a810fa19",
   "metadata": {},
   "outputs": [],
   "source": [
    "import matplotlib.pyplot as plt\n",
    "from sklearn import tree\n",
    "\n",
    "fig = plt.figure(figsize=(15,15))\n",
    "\n",
    "tree.plot_tree(model, feature_names = list(X_train.columns), class_names = [\"0\", \"1\"], filled = True)\n",
    "\n",
    "plt.show()"
   ]
  },
  {
   "cell_type": "code",
   "execution_count": null,
   "id": "2fcaf6a1",
   "metadata": {},
   "outputs": [],
   "source": [
    "import pandas as pd\n",
    "from scipy.stats import chi2_contingency\n",
    "import numpy as np\n",
    "\n",
    "# ASUME que tu DataFrame 'df' ya está cargado.\n",
    "# Por ejemplo: df = pd.read_csv('mi_archivo.csv')\n",
    "\n",
    "# Define los nombres de tus columnas categóricas\n",
    "columna1 = 'Genero'\n",
    "columna2 = 'Color'\n",
    "\n",
    "# Paso 1: Crear la tabla de contingencia\n",
    "# Esto cuenta la frecuencia de cada combinación de categorías\n",
    "tabla_contingencia = pd.crosstab(df[columna1], df[columna2])\n",
    "print(\"Tabla de Contingencia:\\n\", tabla_contingencia)\n",
    "\n",
    "# Paso 2: Realizar la prueba de Chi-cuadrado para ver si hay asociación\n",
    "# chi2: El valor de la estadística de prueba Chi-cuadrado\n",
    "# p_valor: La probabilidad de que la asociación sea por casualidad\n",
    "chi2, p_valor, dof, expected = chi2_contingency(tabla_contingencia)\n",
    "print(f\"\\nValor p de la prueba de Chi-cuadrado: {p_valor:.4f}\")\n",
    "\n",
    "# Paso 3: Calcular el Coeficiente V de Cramer para medir la fuerza de la asociación\n",
    "# El valor oscila entre 0 (sin asociación) y 1 (asociación perfecta)\n",
    "n = tabla_contingencia.sum().sum()\n",
    "phi2 = chi2 / n\n",
    "r, k = tabla_contingencia.shape\n",
    "v_cramer = np.sqrt(phi2 / min(k - 1, r - 1))\n",
    "print(f\"Coeficiente V de Cramer: {v_cramer:.4f}\")\n",
    "\n",
    "# Interpretación:\n",
    "print(\"\\n--- Interpretación de los resultados ---\")\n",
    "if p_valor < 0.05:\n",
    "    print(f\"Hay una asociación significativa entre {columna1} y {columna2} (p < 0.05).\")\n",
    "    print(f\"La fuerza de la asociación es: {v_cramer:.2f}.\")\n",
    "    if v_cramer < 0.2:\n",
    "        print(\"La asociación es débil.\")\n",
    "    elif v_cramer < 0.6:\n",
    "        print(\"La asociación es moderada.\")\n",
    "    else:\n",
    "        print(\"La asociación es fuerte.\")\n",
    "else:\n",
    "    print(f\"No hay una asociación significativa entre {columna1} y {columna2} (p >= 0.05).\")\n",
    "    print(\"Las variables son independientes.\")"
   ]
  }
 ],
 "metadata": {
  "kernelspec": {
   "display_name": "base",
   "language": "python",
   "name": "python3"
  },
  "language_info": {
   "codemirror_mode": {
    "name": "ipython",
    "version": 3
   },
   "file_extension": ".py",
   "mimetype": "text/x-python",
   "name": "python",
   "nbconvert_exporter": "python",
   "pygments_lexer": "ipython3",
   "version": "3.12.7"
  }
 },
 "nbformat": 4,
 "nbformat_minor": 5
}
