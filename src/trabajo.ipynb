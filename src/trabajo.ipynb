{
 "cells": [
  {
   "cell_type": "code",
   "execution_count": null,
   "id": "00e70c0e",
   "metadata": {},
   "outputs": [],
   "source": [
    "import pandas as pb\n",
    "df= pd.read_\n",
    "df = pd.read_csv('../data/raw/depression_data.csv')"
   ]
  }
 ],
 "metadata": {
  "kernelspec": {
   "display_name": "Python 3",
   "language": "python",
   "name": "python3"
  },
  "language_info": {
   "name": "python",
   "version": "3.12.1"
  }
 },
 "nbformat": 4,
 "nbformat_minor": 5
}
