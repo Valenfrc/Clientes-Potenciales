{
 "cells": [
  {
   "cell_type": "code",
   "execution_count": null,
   "id": "00e70c0e",
   "metadata": {},
   "outputs": [
    {
     "name": "stdout",
     "output_type": "stream",
     "text": [
      "Directorio de trabajo actual: /workspaces/Clientes-Potenciales/src\n"
     ]
    }
   ],
   "source": [
    "import pandas as pd\n",
    "import os\n",
    "print(\"Directorio de trabajo actual:\", os.getcwd()) \n"
   ]
  },
  {
   "cell_type": "code",
   "execution_count": 12,
   "id": "f3b47382",
   "metadata": {},
   "outputs": [
    {
     "name": "stdout",
     "output_type": "stream",
     "text": [
      "   Unnamed: 0           Unnamed: 1           Unnamed: 2  Unnamed: 3  \\\n",
      "0         NaN                  NaN                  NaN         NaN   \n",
      "1         NaN                  NaN                  NaN         NaN   \n",
      "2         NaN                  NaN                  NaN         NaN   \n",
      "3         NaN      PRIMER CONTACTO      ULTIMO CONTACTO      NOMBRE   \n",
      "4         NaN  2022-01-01 00:00:00  2022-01-31 00:00:00  Ale Canton   \n",
      "\n",
      "  Unnamed: 4 Unnamed: 5   Unnamed: 6   Unnamed: 7  Unnamed: 8 Unnamed: 9  ...  \\\n",
      "0        NaN        NaN          NaN          NaN         NaN        NaN  ...   \n",
      "1        NaN        NaN   Contratado  Seguimiento     Olvidar        NaN  ...   \n",
      "2        NaN        NaN          NaN          NaN         NaN        NaN  ...   \n",
      "3       Sexo     Pareja  PROCEDENCIA   TELEFONO 1  TELEFONO 2   CORREO 1  ...   \n",
      "4      Mujer          -            -            -           -          -  ...   \n",
      "\n",
      "                            Unnamed: 18                  Unnamed: 19  \\\n",
      "0                                   NaN                          NaN   \n",
      "1                                   NaN                          NaN   \n",
      "2                                   NaN                          NaN   \n",
      "3  CONOCE NUESTROS TRABAJOS Y SERVICIOS  MEDIO POR EL QUE NOS CONOCE   \n",
      "4                                    Sí                        Gmaps   \n",
      "\n",
      "  Unnamed: 20             Unnamed: 21               Unnamed: 22 Unnamed: 23  \\\n",
      "0         NaN                     NaN                       NaN         NaN   \n",
      "1         NaN                     NaN                       NaN         NaN   \n",
      "2         NaN                     NaN                       NaN         NaN   \n",
      "3  DOCUMENTOS  SE PRESENTO  PROPUESTA  FECHA EN QUE SE PRESENTO     ESTATUS   \n",
      "4           -                       -                         -     Olvidar   \n",
      "\n",
      "  Unnamed: 24 Unnamed: 25 Unnamed: 26 Unnamed: 27  \n",
      "0         NaN         NaN         NaN         NaN  \n",
      "1         NaN         NaN         NaN         NaN  \n",
      "2         NaN         NaN         NaN         NaN  \n",
      "3       NOTAS         NaN         NaN         NaN  \n",
      "4           -         NaN         NaN         NaN  \n",
      "\n",
      "[5 rows x 28 columns]\n"
     ]
    }
   ],
   "source": [
    "df= pd.read_excel(\"raw/00_LEADS (CONTROL KIARA).xlsx\")\n",
    "\n",
    "print(df.head())"
   ]
  }
 ],
 "metadata": {
  "kernelspec": {
   "display_name": "Python 3",
   "language": "python",
   "name": "python3"
  },
  "language_info": {
   "codemirror_mode": {
    "name": "ipython",
    "version": 3
   },
   "file_extension": ".py",
   "mimetype": "text/x-python",
   "name": "python",
   "nbconvert_exporter": "python",
   "pygments_lexer": "ipython3",
   "version": "3.12.1"
  }
 },
 "nbformat": 4,
 "nbformat_minor": 5
}
